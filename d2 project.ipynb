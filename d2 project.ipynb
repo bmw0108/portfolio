{
 "cells": [
  {
   "cell_type": "code",
   "execution_count": 110,
   "id": "5844fad1",
   "metadata": {},
   "outputs": [],
   "source": [
    "import pandas as pd\n",
    "import numpy as np\n",
    "import matplotlib.pyplot as plt\n",
    "import os\n",
    "\n",
    "\n",
    "\n",
    "total_logged = pd.read_csv(\"active_time.csv\", names=[\"ID\", \"Name\", \"Hours_logged_in\"])\n",
    "total_logged = total_logged[['Name', 'Hours_logged_in']].iloc[1:]\n",
    "total_logged = total_logged.drop_duplicates(subset='Name', keep='first')\n",
    "\n",
    "\n",
    "total_pve = pd.read_csv(\"pve time.csv\", names = [\"ID\", \"Name\", \"Hours_in_PVE\"])\n",
    "total_pve = total_pve[['Name', 'Hours_in_PVE']].iloc[1:]\n",
    "total_pve = total_pve.drop_duplicates(subset='Name', keep='first')\n",
    "\n",
    "total_pvp = pd.read_csv(\"pvp time.csv\", names = [\"ID\", \"Name\", \"Hours_in_PVP\"])\n",
    "total_pvp = total_pvp[['Name', 'Hours_in_PVP']].iloc[1:]\n",
    "total_pvp = total_pvp.drop_duplicates(subset='Name', keep='first')\n",
    "\n",
    "total_gambit = pd.read_csv(\"gambit time.csv\",names = [\"ID\", \"Name\", \"Hours_in_Gambit\"])\n",
    "total_gambit = total_gambit[['Name', 'Hours_in_Gambit']].iloc[1:]\n",
    "total_gambit = total_gambit.drop_duplicates(subset='Name', keep='first')\n",
    "\n",
    "\n",
    "total_raid_amount = pd.read_csv(\"raid_completions.csv\", names=[\"ID\", \"Name\", \"Raid_completions\"])\n",
    "total_raid_amount = total_raid_amount[['Name', 'Raid_completions']].iloc[1:]\n",
    "total_raid_amount = total_raid_amount.drop_duplicates(subset='Name', keep='first')\n",
    "\n",
    "total_dungeon_amount = pd.read_csv(\"dungeons_completions.csv\", names=[\"ID\", \"Name\", \"Dungeon_completions\"])\n",
    "total_dungeon_amount = total_dungeon_amount[['Name', 'Dungeon_completions']].iloc[1:]\n",
    "total_dungeon_amount = total_dungeon_amount.drop_duplicates(subset='Name', keep='first')\n",
    "\n",
    "total_kf = pd.read_csv(\"kf_master.csv\", names=[\"ID\", \"Name\", \"kf_completions\"])\n",
    "total_kf = total_kf[['Name', 'kf_completions']].iloc[1:]\n",
    "total_kf = total_kf.drop_duplicates(subset='Name', keep='first')\n",
    "\n",
    "total_vog = pd.read_csv(\"vog_master.csv\", names=[\"ID\", \"Name\", \"vog_completions\"])\n",
    "total_vog = total_vog[['Name', 'vog_completions']].iloc[1:]\n",
    "total_vog = total_vog.drop_duplicates(subset='Name', keep='first')\n",
    "\n",
    "total_vod = pd.read_csv(\"vod_master.csv\", names=[\"ID\", \"Name\", \"vod_completions\"])\n",
    "total_vod = total_vod[['Name', 'vod_completions']].iloc[1:]\n",
    "total_vod = total_vod.drop_duplicates(subset='Name', keep='first')\n",
    "\n",
    "total_ron = pd.read_csv(\"ron_master.csv\", names=[\"ID\", \"Name\", \"ron_completions\"])\n",
    "total_ron = total_ron[['Name', 'ron_completions']].iloc[1:]\n",
    "total_ron = total_ron.drop_duplicates(subset='Name', keep='first')\n",
    "\n",
    "gotd_time = pd.read_csv(\"gotd_time.csv\", names=[\"ID\", \"Name\", \"gotd_time\"])\n",
    "gotd_time = gotd_time[['Name', 'gotd_time']].iloc[1:]\n",
    "gotd_time = gotd_time.drop_duplicates(subset='Name', keep='first')\n",
    "\n",
    "gotd_completions = pd.read_csv(\"gotd_completions.csv\", names=[\"ID\", \"Name\", \"gotd_completions\"])\n",
    "gotd_completions = gotd_completions[['Name', 'gotd_completions']].iloc[1:]\n",
    "gotd_completions = gotd_completions.drop_duplicates(subset='Name', keep='first')\n",
    "\n",
    "duality_time = pd.read_csv(\"duality_time.csv\", names=[\"ID\", \"Name\", \"duality_time\"])\n",
    "duality_time = duality_time[['Name', 'duality_time']].iloc[1:]\n",
    "duality_time = duality_time.drop_duplicates(subset='Name', keep='first')\n",
    "\n",
    "duality_completions = pd.read_csv(\"duality_completions.csv\", names=[\"ID\", \"Name\", \"duality_completions\"])\n",
    "duality_completions = duality_completions[['Name', 'duality_completions']].iloc[1:]\n",
    "duality_completions = duality_completions.drop_duplicates(subset='Name', keep='first')\n",
    "\n",
    "prophecy_time = pd.read_csv(\"prophecy_time.csv\", names=[\"ID\", \"Name\", \"prophecy_time\"])\n",
    "prophecy_time = prophecy_time[['Name', 'prophecy_time']].iloc[1:]\n",
    "prophecy_time = prophecy_time.drop_duplicates(subset='Name', keep='first')\n",
    "\n",
    "prophecy_completions = pd.read_csv(\"prophecy_completions.csv\", names=[\"ID\", \"Name\", \"prophecy_completions\"])\n",
    "prophecy_completions = prophecy_completions[['Name', 'prophecy_completions']].iloc[1:]\n",
    "prophecy_completions = prophecy_completions.drop_duplicates(subset='Name', keep='first')\n",
    "\n",
    "pit_time = pd.read_csv(\"pit_time.csv\", names=[\"ID\", \"Name\", \"pit_time\"])\n",
    "pit_time = pit_time[['Name', 'pit_time']].iloc[1:]\n",
    "pit_time = pit_time.drop_duplicates(subset='Name', keep='first')\n",
    "\n",
    "pit_completions = pd.read_csv(\"pit_completions.csv\", names=[\"ID\", \"Name\", \"pit_completions\"])\n",
    "pit_completions = pit_completions[['Name', 'pit_completions']].iloc[1:]\n",
    "pit_completions = pit_completions.drop_duplicates(subset='Name', keep='first')\n"
   ]
  },
  {
   "cell_type": "code",
   "execution_count": 58,
   "id": "93935a3d",
   "metadata": {},
   "outputs": [],
   "source": [
    "from scipy.stats import norm, skewnorm"
   ]
  },
  {
   "cell_type": "code",
   "execution_count": 111,
   "id": "b287c5e9",
   "metadata": {},
   "outputs": [],
   "source": [
    "total_logged['Hours_logged_in'] = pd.to_numeric(total_logged['Hours_logged_in'].str.replace(',', ''))\n",
    "total_pve['Hours_in_PVE'] = pd.to_numeric(total_pve['Hours_in_PVE'].str.replace(',', ''))\n",
    "total_pvp['Hours_in_PVP'] = pd.to_numeric(total_pvp['Hours_in_PVP'].str.replace(',', ''))\n",
    "total_gambit['Hours_in_Gambit'] = pd.to_numeric(total_gambit['Hours_in_Gambit'].str.replace(',', ''))\n",
    "total_raid_amount['Raid_completions'] = pd.to_numeric(total_raid_amount['Raid_completions'].str.replace(',', ''))\n",
    "total_dungeon_amount['Dungeon_completions'] = pd.to_numeric(total_dungeon_amount['Dungeon_completions'].str.replace(',', ''))\n",
    "total_kf['kf_completions'] = pd.to_numeric(total_kf['kf_completions'].str.replace(',', ''))\n",
    "total_vog['vog_completions'] = pd.to_numeric(total_vog['vog_completions'].str.replace(',', ''))\n",
    "total_vod['vod_completions'] = pd.to_numeric(total_vod['vod_completions'].str.replace(',', ''))\n",
    "total_ron['ron_completions'] = pd.to_numeric(total_ron['ron_completions'].str.replace(',', ''))\n",
    "gotd_completions['gotd_completions'] = pd.to_numeric(gotd_completions['gotd_completions'].str.replace(',', ''))\n",
    "duality_completions['duality_completions'] = pd.to_numeric(duality_completions['duality_completions'].str.replace(',', ''))\n",
    "prophecy_completions['prophecy_completions'] = pd.to_numeric(prophecy_completions['prophecy_completions'].str.replace(',', ''))\n",
    "pit_completions['pit_completions'] = pd.to_numeric(pit_completions['pit_completions'].str.replace(',', ''))\n",
    "\n",
    "\n",
    "\n",
    "total_logged = total_logged[total_logged['Hours_logged_in'] > 50]\n",
    "total_pve = total_pve[total_pve['Hours_in_PVE'] > 5]\n",
    "total_pvp = total_pvp[total_pvp['Hours_in_PVP'] > 5]\n",
    "total_gambit = total_gambit[total_gambit['Hours_in_Gambit'] > 5]\n",
    "total_raid_amount = total_raid_amount[total_raid_amount['Raid_completions'] >= 1]\n",
    "total_dungeon_amount = total_dungeon_amount[total_dungeon_amount['Dungeon_completions'] >= 1]\n",
    "gotd_completions = gotd_completions[gotd_completions['gotd_completions'] >= 5]\n",
    "duality_completions = duality_completions[duality_completions['duality_completions'] >= 28]\n",
    "prophecy_completions = prophecy_completions[prophecy_completions['prophecy_completions'] >= 27]\n",
    "pit_completions = pit_completions[pit_completions['pit_completions'] >= 28]\n",
    "\n",
    "total_logged.reset_index(drop=True, inplace=True)\n",
    "total_pve.reset_index(drop=True, inplace=True)\n",
    "total_pvp.reset_index(drop=True, inplace=True)\n",
    "total_gambit.reset_index(drop=True, inplace=True)\n",
    "total_raid_amount.reset_index(drop=True, inplace=True)\n",
    "total_dungeon_amount.reset_index(drop=True, inplace=True)\n",
    "gotd_completions.reset_index(drop=True, inplace=True)\n",
    "duality_completions.reset_index(drop=True, inplace=True)\n",
    "prophecy_completions.reset_index(drop=True, inplace=True)"
   ]
  },
  {
   "cell_type": "code",
   "execution_count": 286,
   "id": "41676d50",
   "metadata": {},
   "outputs": [
    {
     "data": {
      "text/html": [
       "<div>\n",
       "<style scoped>\n",
       "    .dataframe tbody tr th:only-of-type {\n",
       "        vertical-align: middle;\n",
       "    }\n",
       "\n",
       "    .dataframe tbody tr th {\n",
       "        vertical-align: top;\n",
       "    }\n",
       "\n",
       "    .dataframe thead th {\n",
       "        text-align: right;\n",
       "    }\n",
       "</style>\n",
       "<table border=\"1\" class=\"dataframe\">\n",
       "  <thead>\n",
       "    <tr style=\"text-align: right;\">\n",
       "      <th></th>\n",
       "      <th>Name</th>\n",
       "      <th>kf_completions</th>\n",
       "    </tr>\n",
       "  </thead>\n",
       "  <tbody>\n",
       "    <tr>\n",
       "      <th>1</th>\n",
       "      <td>Shreked#7381</td>\n",
       "      <td>28</td>\n",
       "    </tr>\n",
       "    <tr>\n",
       "      <th>2</th>\n",
       "      <td>cr cosmic#4307</td>\n",
       "      <td>22</td>\n",
       "    </tr>\n",
       "    <tr>\n",
       "      <th>3</th>\n",
       "      <td>Jacao#8369</td>\n",
       "      <td>16</td>\n",
       "    </tr>\n",
       "    <tr>\n",
       "      <th>4</th>\n",
       "      <td>SEBA_plast007#6060</td>\n",
       "      <td>15</td>\n",
       "    </tr>\n",
       "    <tr>\n",
       "      <th>5</th>\n",
       "      <td>Kremowy#0241</td>\n",
       "      <td>14</td>\n",
       "    </tr>\n",
       "    <tr>\n",
       "      <th>...</th>\n",
       "      <td>...</td>\n",
       "      <td>...</td>\n",
       "    </tr>\n",
       "    <tr>\n",
       "      <th>397</th>\n",
       "      <td>Eloise#2506</td>\n",
       "      <td>1</td>\n",
       "    </tr>\n",
       "    <tr>\n",
       "      <th>398</th>\n",
       "      <td>Rolf, son of a shepherd#2922</td>\n",
       "      <td>1</td>\n",
       "    </tr>\n",
       "    <tr>\n",
       "      <th>399</th>\n",
       "      <td>Emelejt#5966</td>\n",
       "      <td>1</td>\n",
       "    </tr>\n",
       "    <tr>\n",
       "      <th>400</th>\n",
       "      <td>lukasz24112000#7240</td>\n",
       "      <td>1</td>\n",
       "    </tr>\n",
       "    <tr>\n",
       "      <th>401</th>\n",
       "      <td>RowerWPokrzywach#9234</td>\n",
       "      <td>1</td>\n",
       "    </tr>\n",
       "  </tbody>\n",
       "</table>\n",
       "<p>401 rows × 2 columns</p>\n",
       "</div>"
      ],
      "text/plain": [
       "                              Name  kf_completions\n",
       "1                     Shreked#7381              28\n",
       "2                   cr cosmic#4307              22\n",
       "3                       Jacao#8369              16\n",
       "4               SEBA_plast007#6060              15\n",
       "5                     Kremowy#0241              14\n",
       "..                             ...             ...\n",
       "397                    Eloise#2506               1\n",
       "398   Rolf, son of a shepherd#2922               1\n",
       "399                   Emelejt#5966               1\n",
       "400            lukasz24112000#7240               1\n",
       "401          RowerWPokrzywach#9234               1\n",
       "\n",
       "[401 rows x 2 columns]"
      ]
     },
     "execution_count": 286,
     "metadata": {},
     "output_type": "execute_result"
    }
   ],
   "source": [
    "total_kf"
   ]
  },
  {
   "cell_type": "code",
   "execution_count": 392,
   "id": "2cee6e90",
   "metadata": {},
   "outputs": [
    {
     "data": {
      "text/html": [
       "<div>\n",
       "<style scoped>\n",
       "    .dataframe tbody tr th:only-of-type {\n",
       "        vertical-align: middle;\n",
       "    }\n",
       "\n",
       "    .dataframe tbody tr th {\n",
       "        vertical-align: top;\n",
       "    }\n",
       "\n",
       "    .dataframe thead th {\n",
       "        text-align: right;\n",
       "    }\n",
       "</style>\n",
       "<table border=\"1\" class=\"dataframe\">\n",
       "  <thead>\n",
       "    <tr style=\"text-align: right;\">\n",
       "      <th></th>\n",
       "      <th>Name</th>\n",
       "      <th>Raid_completions</th>\n",
       "    </tr>\n",
       "  </thead>\n",
       "  <tbody>\n",
       "    <tr>\n",
       "      <th>0</th>\n",
       "      <td>Harryy#3348</td>\n",
       "      <td>2967</td>\n",
       "    </tr>\n",
       "    <tr>\n",
       "      <th>1</th>\n",
       "      <td>Tony_the_pony789#1084</td>\n",
       "      <td>2904</td>\n",
       "    </tr>\n",
       "    <tr>\n",
       "      <th>2</th>\n",
       "      <td>dele super kozak#4272</td>\n",
       "      <td>2039</td>\n",
       "    </tr>\n",
       "    <tr>\n",
       "      <th>3</th>\n",
       "      <td>Skid#4782</td>\n",
       "      <td>2015</td>\n",
       "    </tr>\n",
       "    <tr>\n",
       "      <th>4</th>\n",
       "      <td>Nocker29#8803</td>\n",
       "      <td>1600</td>\n",
       "    </tr>\n",
       "    <tr>\n",
       "      <th>...</th>\n",
       "      <td>...</td>\n",
       "      <td>...</td>\n",
       "    </tr>\n",
       "    <tr>\n",
       "      <th>2676</th>\n",
       "      <td>MR_Tomes#8718</td>\n",
       "      <td>1</td>\n",
       "    </tr>\n",
       "    <tr>\n",
       "      <th>2677</th>\n",
       "      <td>WhiteSkinManson™#5248</td>\n",
       "      <td>1</td>\n",
       "    </tr>\n",
       "    <tr>\n",
       "      <th>2678</th>\n",
       "      <td>Hells Warden#5100</td>\n",
       "      <td>1</td>\n",
       "    </tr>\n",
       "    <tr>\n",
       "      <th>2679</th>\n",
       "      <td>BrokenBlade#3409</td>\n",
       "      <td>1</td>\n",
       "    </tr>\n",
       "    <tr>\n",
       "      <th>2680</th>\n",
       "      <td>Quzis#5340</td>\n",
       "      <td>1</td>\n",
       "    </tr>\n",
       "  </tbody>\n",
       "</table>\n",
       "<p>2681 rows × 2 columns</p>\n",
       "</div>"
      ],
      "text/plain": [
       "                        Name  Raid_completions\n",
       "0                Harryy#3348              2967\n",
       "1      Tony_the_pony789#1084              2904\n",
       "2      dele super kozak#4272              2039\n",
       "3                  Skid#4782              2015\n",
       "4              Nocker29#8803              1600\n",
       "...                      ...               ...\n",
       "2676           MR_Tomes#8718                 1\n",
       "2677   WhiteSkinManson™#5248                 1\n",
       "2678       Hells Warden#5100                 1\n",
       "2679        BrokenBlade#3409                 1\n",
       "2680              Quzis#5340                 1\n",
       "\n",
       "[2681 rows x 2 columns]"
      ]
     },
     "execution_count": 392,
     "metadata": {},
     "output_type": "execute_result"
    }
   ],
   "source": [
    "total_raid_amount\n"
   ]
  },
  {
   "cell_type": "code",
   "execution_count": 215,
   "id": "a4e8afaa",
   "metadata": {},
   "outputs": [
    {
     "data": {
      "text/html": [
       "<div>\n",
       "<style scoped>\n",
       "    .dataframe tbody tr th:only-of-type {\n",
       "        vertical-align: middle;\n",
       "    }\n",
       "\n",
       "    .dataframe tbody tr th {\n",
       "        vertical-align: top;\n",
       "    }\n",
       "\n",
       "    .dataframe thead th {\n",
       "        text-align: right;\n",
       "    }\n",
       "</style>\n",
       "<table border=\"1\" class=\"dataframe\">\n",
       "  <thead>\n",
       "    <tr style=\"text-align: right;\">\n",
       "      <th></th>\n",
       "      <th>Name</th>\n",
       "      <th>Hours_in_PVP</th>\n",
       "    </tr>\n",
       "  </thead>\n",
       "  <tbody>\n",
       "    <tr>\n",
       "      <th>0</th>\n",
       "      <td>TYMASZEK#5462</td>\n",
       "      <td>3277</td>\n",
       "    </tr>\n",
       "    <tr>\n",
       "      <th>1</th>\n",
       "      <td>wsci3klyw1lku#0148</td>\n",
       "      <td>2937</td>\n",
       "    </tr>\n",
       "    <tr>\n",
       "      <th>2</th>\n",
       "      <td>RΛ千IҜ#2558</td>\n",
       "      <td>2871</td>\n",
       "    </tr>\n",
       "    <tr>\n",
       "      <th>3</th>\n",
       "      <td>Flex#2508</td>\n",
       "      <td>2828</td>\n",
       "    </tr>\n",
       "    <tr>\n",
       "      <th>4</th>\n",
       "      <td>Dark#6696</td>\n",
       "      <td>2494</td>\n",
       "    </tr>\n",
       "    <tr>\n",
       "      <th>...</th>\n",
       "      <td>...</td>\n",
       "      <td>...</td>\n",
       "    </tr>\n",
       "    <tr>\n",
       "      <th>2834</th>\n",
       "      <td>Wegielek#4339</td>\n",
       "      <td>6</td>\n",
       "    </tr>\n",
       "    <tr>\n",
       "      <th>2835</th>\n",
       "      <td>muri070</td>\n",
       "      <td>6</td>\n",
       "    </tr>\n",
       "    <tr>\n",
       "      <th>2836</th>\n",
       "      <td>sobik#9514</td>\n",
       "      <td>6</td>\n",
       "    </tr>\n",
       "    <tr>\n",
       "      <th>2837</th>\n",
       "      <td>steryda#4028</td>\n",
       "      <td>6</td>\n",
       "    </tr>\n",
       "    <tr>\n",
       "      <th>2838</th>\n",
       "      <td>Snowflake#1153</td>\n",
       "      <td>6</td>\n",
       "    </tr>\n",
       "  </tbody>\n",
       "</table>\n",
       "<p>2839 rows × 2 columns</p>\n",
       "</div>"
      ],
      "text/plain": [
       "                     Name  Hours_in_PVP\n",
       "0           TYMASZEK#5462          3277\n",
       "1      wsci3klyw1lku#0148          2937\n",
       "2              RΛ千IҜ#2558          2871\n",
       "3               Flex#2508          2828\n",
       "4               Dark#6696          2494\n",
       "...                   ...           ...\n",
       "2834        Wegielek#4339             6\n",
       "2835              muri070             6\n",
       "2836           sobik#9514             6\n",
       "2837         steryda#4028             6\n",
       "2838       Snowflake#1153             6\n",
       "\n",
       "[2839 rows x 2 columns]"
      ]
     },
     "execution_count": 215,
     "metadata": {},
     "output_type": "execute_result"
    }
   ],
   "source": [
    "total_pvp"
   ]
  },
  {
   "cell_type": "code",
   "execution_count": 216,
   "id": "be702e99",
   "metadata": {},
   "outputs": [
    {
     "data": {
      "text/html": [
       "<div>\n",
       "<style scoped>\n",
       "    .dataframe tbody tr th:only-of-type {\n",
       "        vertical-align: middle;\n",
       "    }\n",
       "\n",
       "    .dataframe tbody tr th {\n",
       "        vertical-align: top;\n",
       "    }\n",
       "\n",
       "    .dataframe thead th {\n",
       "        text-align: right;\n",
       "    }\n",
       "</style>\n",
       "<table border=\"1\" class=\"dataframe\">\n",
       "  <thead>\n",
       "    <tr style=\"text-align: right;\">\n",
       "      <th></th>\n",
       "      <th>Name</th>\n",
       "      <th>Hours_in_Gambit</th>\n",
       "    </tr>\n",
       "  </thead>\n",
       "  <tbody>\n",
       "    <tr>\n",
       "      <th>0</th>\n",
       "      <td>czeswit#2984</td>\n",
       "      <td>1156</td>\n",
       "    </tr>\n",
       "    <tr>\n",
       "      <th>1</th>\n",
       "      <td>Quarizzo#5633</td>\n",
       "      <td>905</td>\n",
       "    </tr>\n",
       "    <tr>\n",
       "      <th>2</th>\n",
       "      <td>Sliwek82^PL^#8157</td>\n",
       "      <td>720</td>\n",
       "    </tr>\n",
       "    <tr>\n",
       "      <th>3</th>\n",
       "      <td>Dark#6696</td>\n",
       "      <td>613</td>\n",
       "    </tr>\n",
       "    <tr>\n",
       "      <th>4</th>\n",
       "      <td>Tonee#8557</td>\n",
       "      <td>584</td>\n",
       "    </tr>\n",
       "    <tr>\n",
       "      <th>...</th>\n",
       "      <td>...</td>\n",
       "      <td>...</td>\n",
       "    </tr>\n",
       "    <tr>\n",
       "      <th>2729</th>\n",
       "      <td>KrokodylZKosmosu#3880</td>\n",
       "      <td>6</td>\n",
       "    </tr>\n",
       "    <tr>\n",
       "      <th>2730</th>\n",
       "      <td>MOBBYN#9235</td>\n",
       "      <td>6</td>\n",
       "    </tr>\n",
       "    <tr>\n",
       "      <th>2731</th>\n",
       "      <td>Kimakar#3855</td>\n",
       "      <td>6</td>\n",
       "    </tr>\n",
       "    <tr>\n",
       "      <th>2732</th>\n",
       "      <td>Aqast#9318</td>\n",
       "      <td>6</td>\n",
       "    </tr>\n",
       "    <tr>\n",
       "      <th>2733</th>\n",
       "      <td>ShoGun-7#3036</td>\n",
       "      <td>6</td>\n",
       "    </tr>\n",
       "  </tbody>\n",
       "</table>\n",
       "<p>2734 rows × 2 columns</p>\n",
       "</div>"
      ],
      "text/plain": [
       "                        Name  Hours_in_Gambit\n",
       "0               czeswit#2984             1156\n",
       "1              Quarizzo#5633              905\n",
       "2          Sliwek82^PL^#8157              720\n",
       "3                  Dark#6696              613\n",
       "4                 Tonee#8557              584\n",
       "...                      ...              ...\n",
       "2729   KrokodylZKosmosu#3880                6\n",
       "2730             MOBBYN#9235                6\n",
       "2731            Kimakar#3855                6\n",
       "2732              Aqast#9318                6\n",
       "2733           ShoGun-7#3036                6\n",
       "\n",
       "[2734 rows x 2 columns]"
      ]
     },
     "execution_count": 216,
     "metadata": {},
     "output_type": "execute_result"
    }
   ],
   "source": [
    "total_gambit"
   ]
  },
  {
   "cell_type": "code",
   "execution_count": 225,
   "id": "e0259f89",
   "metadata": {},
   "outputs": [],
   "source": [
    "merged_df = pd.merge(total_logged , total_pve, on='Name', how='inner')"
   ]
  },
  {
   "cell_type": "code",
   "execution_count": 226,
   "id": "8f59b637",
   "metadata": {},
   "outputs": [],
   "source": [
    "merged_df2 = pd.merge(merged_df , total_pvp, on='Name', how='inner')"
   ]
  },
  {
   "cell_type": "code",
   "execution_count": 227,
   "id": "d9caa2cd",
   "metadata": {},
   "outputs": [],
   "source": [
    "merged_df3 = pd.merge(merged_df2 , total_gambit, on='Name', how='inner')"
   ]
  },
  {
   "cell_type": "code",
   "execution_count": 228,
   "id": "4ee6577d",
   "metadata": {},
   "outputs": [],
   "source": [
    "merged_df4 = pd.merge(merged_df3 , total_raid_amount, on='Name', how='inner')"
   ]
  },
  {
   "cell_type": "code",
   "execution_count": 229,
   "id": "a68a01ab",
   "metadata": {},
   "outputs": [],
   "source": [
    "merged_df5 = pd.merge(merged_df4 , total_dungeon_amount, on='Name', how='inner')\n"
   ]
  },
  {
   "cell_type": "code",
   "execution_count": 389,
   "id": "d7656def",
   "metadata": {
    "scrolled": false
   },
   "outputs": [
    {
     "data": {
      "text/html": [
       "<div>\n",
       "<style scoped>\n",
       "    .dataframe tbody tr th:only-of-type {\n",
       "        vertical-align: middle;\n",
       "    }\n",
       "\n",
       "    .dataframe tbody tr th {\n",
       "        vertical-align: top;\n",
       "    }\n",
       "\n",
       "    .dataframe thead th {\n",
       "        text-align: right;\n",
       "    }\n",
       "</style>\n",
       "<table border=\"1\" class=\"dataframe\">\n",
       "  <thead>\n",
       "    <tr style=\"text-align: right;\">\n",
       "      <th></th>\n",
       "      <th>Name</th>\n",
       "      <th>Hours_logged_in</th>\n",
       "      <th>Hours_in_PVE</th>\n",
       "      <th>Hours_in_PVP</th>\n",
       "      <th>Hours_in_Gambit</th>\n",
       "      <th>Raid_completions</th>\n",
       "      <th>Dungeon_completions</th>\n",
       "    </tr>\n",
       "  </thead>\n",
       "  <tbody>\n",
       "    <tr>\n",
       "      <th>25</th>\n",
       "      <td>56TR#6741</td>\n",
       "      <td>5855</td>\n",
       "      <td>5438</td>\n",
       "      <td>318</td>\n",
       "      <td>99</td>\n",
       "      <td>343</td>\n",
       "      <td>350</td>\n",
       "    </tr>\n",
       "  </tbody>\n",
       "</table>\n",
       "</div>"
      ],
      "text/plain": [
       "         Name  Hours_logged_in  Hours_in_PVE  Hours_in_PVP  Hours_in_Gambit  \\\n",
       "25  56TR#6741             5855          5438           318               99   \n",
       "\n",
       "    Raid_completions  Dungeon_completions  \n",
       "25               343                  350  "
      ]
     },
     "execution_count": 389,
     "metadata": {},
     "output_type": "execute_result"
    }
   ],
   "source": [
    "merged_df5['Name'] = merged_df5['Name'].astype(str)\n",
    "merged_df5['Name'] = merged_df5['Name'].str.strip()\n",
    "person_name = '56TR#6741'\n",
    "person_index = merged_df5.index[merged_df5['Name'] == person_name]\n",
    "specific_person_data = merged_df5.iloc[person_index]\n",
    "specific_person_data\n",
    "\n",
    "\n",
    "\n",
    "\n",
    "\n",
    "#merged_df5.iloc[:, 0]\n",
    "#print(merged_df5['Name'].unique())\n",
    "\n",
    "#porownywanie df'ów na podstawie inner joinów \n",
    "\n",
    "#pvp a pve srednio ile ludzie graja \n",
    "#sprawdzic ktory rajd jest najpopularniejszy\n",
    "#-||- dungeon \n",
    "#ile osob zrobilo jakiegos master rajda\n",
    "#-||- dungeon \n",
    "#seal distribution spawdzic world vs server\n",
    "# w sumie inne rzeczy tez mozna porownac server vs world\n",
    "#flawless vs kd na trialsach\n",
    "#ile w d1 a w d2 gra"
   ]
  },
  {
   "cell_type": "code",
   "execution_count": 404,
   "id": "a457426b",
   "metadata": {},
   "outputs": [
    {
     "data": {
      "text/plain": [
       "61"
      ]
     },
     "execution_count": 404,
     "metadata": {},
     "output_type": "execute_result"
    }
   ],
   "source": [
    "#czyli tylko 61 osob nie gralo zadnego dunga przed rajdem\n",
    "len(merged_df4) - len(merged_df5)\n"
   ]
  },
  {
   "cell_type": "code",
   "execution_count": 319,
   "id": "6cc0fc0b",
   "metadata": {},
   "outputs": [],
   "source": [
    "merged_master = pd.merge(total_kf , total_vod, on='Name', how='outer')\n",
    "merged_master1 = pd.merge(merged_master , total_vog, on='Name', how='outer')\n",
    "merged_master2 = pd.merge(merged_master1 , total_ron, on='Name', how='outer')"
   ]
  },
  {
   "cell_type": "code",
   "execution_count": null,
   "id": "bbe56b41",
   "metadata": {
    "scrolled": false
   },
   "outputs": [],
   "source": []
  },
  {
   "cell_type": "code",
   "execution_count": 320,
   "id": "239165c0",
   "metadata": {},
   "outputs": [],
   "source": [
    "merged_master2.fillna(0, inplace=True) #usuwanie Nan"
   ]
  },
  {
   "cell_type": "code",
   "execution_count": 321,
   "id": "9cbaf65a",
   "metadata": {},
   "outputs": [],
   "source": [
    "numeric_columns = merged_master2.select_dtypes(include='number').columns"
   ]
  },
  {
   "cell_type": "code",
   "execution_count": 322,
   "id": "5e0a4a3c",
   "metadata": {},
   "outputs": [],
   "source": [
    "merged_master2['sum_completions'] = merged_master2[numeric_columns].sum(axis=1) #dodanie nowej kolumny sum"
   ]
  },
  {
   "cell_type": "code",
   "execution_count": 323,
   "id": "60450dd6",
   "metadata": {},
   "outputs": [],
   "source": [
    "merged_master2 = merged_master2.sort_values('sum_completions', ascending=False) #sortowanie malejaco"
   ]
  },
  {
   "cell_type": "code",
   "execution_count": 324,
   "id": "05ca2e11",
   "metadata": {},
   "outputs": [
    {
     "ename": "UnicodeEncodeError",
     "evalue": "'mbcs' codec can't encode characters in position 0--1: invalid character",
     "output_type": "error",
     "traceback": [
      "\u001b[1;31m---------------------------------------------------------------------------\u001b[0m",
      "\u001b[1;31mUnicodeEncodeError\u001b[0m                        Traceback (most recent call last)",
      "\u001b[1;32m~\\AppData\\Local\\Temp\\ipykernel_25112\\3164677863.py\u001b[0m in \u001b[0;36m<module>\u001b[1;34m\u001b[0m\n\u001b[1;32m----> 1\u001b[1;33m \u001b[0mmerged_master2\u001b[0m\u001b[1;33m.\u001b[0m\u001b[0mto_csv\u001b[0m\u001b[1;33m(\u001b[0m\u001b[1;34m\"mastery.csv\"\u001b[0m\u001b[1;33m,\u001b[0m\u001b[0mindex\u001b[0m\u001b[1;33m=\u001b[0m\u001b[1;32mFalse\u001b[0m\u001b[1;33m,\u001b[0m \u001b[0mencoding\u001b[0m\u001b[1;33m=\u001b[0m\u001b[1;34m'ANSI'\u001b[0m\u001b[1;33m)\u001b[0m\u001b[1;33m\u001b[0m\u001b[1;33m\u001b[0m\u001b[0m\n\u001b[0m",
      "\u001b[1;32mc:\\users\\bjbmw\\appdata\\local\\programs\\python\\python37\\lib\\site-packages\\pandas\\core\\generic.py\u001b[0m in \u001b[0;36mto_csv\u001b[1;34m(self, path_or_buf, sep, na_rep, float_format, columns, header, index, index_label, mode, encoding, compression, quoting, quotechar, line_terminator, chunksize, date_format, doublequote, escapechar, decimal, errors, storage_options)\u001b[0m\n\u001b[0;32m   3480\u001b[0m             \u001b[0mdoublequote\u001b[0m\u001b[1;33m=\u001b[0m\u001b[0mdoublequote\u001b[0m\u001b[1;33m,\u001b[0m\u001b[1;33m\u001b[0m\u001b[1;33m\u001b[0m\u001b[0m\n\u001b[0;32m   3481\u001b[0m             \u001b[0mescapechar\u001b[0m\u001b[1;33m=\u001b[0m\u001b[0mescapechar\u001b[0m\u001b[1;33m,\u001b[0m\u001b[1;33m\u001b[0m\u001b[1;33m\u001b[0m\u001b[0m\n\u001b[1;32m-> 3482\u001b[1;33m             \u001b[0mstorage_options\u001b[0m\u001b[1;33m=\u001b[0m\u001b[0mstorage_options\u001b[0m\u001b[1;33m,\u001b[0m\u001b[1;33m\u001b[0m\u001b[1;33m\u001b[0m\u001b[0m\n\u001b[0m\u001b[0;32m   3483\u001b[0m         )\n\u001b[0;32m   3484\u001b[0m \u001b[1;33m\u001b[0m\u001b[0m\n",
      "\u001b[1;32mc:\\users\\bjbmw\\appdata\\local\\programs\\python\\python37\\lib\\site-packages\\pandas\\io\\formats\\format.py\u001b[0m in \u001b[0;36mto_csv\u001b[1;34m(self, path_or_buf, encoding, sep, columns, index_label, mode, compression, quoting, quotechar, line_terminator, chunksize, date_format, doublequote, escapechar, errors, storage_options)\u001b[0m\n\u001b[0;32m   1103\u001b[0m             \u001b[0mformatter\u001b[0m\u001b[1;33m=\u001b[0m\u001b[0mself\u001b[0m\u001b[1;33m.\u001b[0m\u001b[0mfmt\u001b[0m\u001b[1;33m,\u001b[0m\u001b[1;33m\u001b[0m\u001b[1;33m\u001b[0m\u001b[0m\n\u001b[0;32m   1104\u001b[0m         )\n\u001b[1;32m-> 1105\u001b[1;33m         \u001b[0mcsv_formatter\u001b[0m\u001b[1;33m.\u001b[0m\u001b[0msave\u001b[0m\u001b[1;33m(\u001b[0m\u001b[1;33m)\u001b[0m\u001b[1;33m\u001b[0m\u001b[1;33m\u001b[0m\u001b[0m\n\u001b[0m\u001b[0;32m   1106\u001b[0m \u001b[1;33m\u001b[0m\u001b[0m\n\u001b[0;32m   1107\u001b[0m         \u001b[1;32mif\u001b[0m \u001b[0mcreated_buffer\u001b[0m\u001b[1;33m:\u001b[0m\u001b[1;33m\u001b[0m\u001b[1;33m\u001b[0m\u001b[0m\n",
      "\u001b[1;32mc:\\users\\bjbmw\\appdata\\local\\programs\\python\\python37\\lib\\site-packages\\pandas\\io\\formats\\csvs.py\u001b[0m in \u001b[0;36msave\u001b[1;34m(self)\u001b[0m\n\u001b[0;32m    255\u001b[0m             )\n\u001b[0;32m    256\u001b[0m \u001b[1;33m\u001b[0m\u001b[0m\n\u001b[1;32m--> 257\u001b[1;33m             \u001b[0mself\u001b[0m\u001b[1;33m.\u001b[0m\u001b[0m_save\u001b[0m\u001b[1;33m(\u001b[0m\u001b[1;33m)\u001b[0m\u001b[1;33m\u001b[0m\u001b[1;33m\u001b[0m\u001b[0m\n\u001b[0m\u001b[0;32m    258\u001b[0m \u001b[1;33m\u001b[0m\u001b[0m\n\u001b[0;32m    259\u001b[0m     \u001b[1;32mdef\u001b[0m \u001b[0m_save\u001b[0m\u001b[1;33m(\u001b[0m\u001b[0mself\u001b[0m\u001b[1;33m)\u001b[0m \u001b[1;33m->\u001b[0m \u001b[1;32mNone\u001b[0m\u001b[1;33m:\u001b[0m\u001b[1;33m\u001b[0m\u001b[1;33m\u001b[0m\u001b[0m\n",
      "\u001b[1;32mc:\\users\\bjbmw\\appdata\\local\\programs\\python\\python37\\lib\\site-packages\\pandas\\io\\formats\\csvs.py\u001b[0m in \u001b[0;36m_save\u001b[1;34m(self)\u001b[0m\n\u001b[0;32m    260\u001b[0m         \u001b[1;32mif\u001b[0m \u001b[0mself\u001b[0m\u001b[1;33m.\u001b[0m\u001b[0m_need_to_save_header\u001b[0m\u001b[1;33m:\u001b[0m\u001b[1;33m\u001b[0m\u001b[1;33m\u001b[0m\u001b[0m\n\u001b[0;32m    261\u001b[0m             \u001b[0mself\u001b[0m\u001b[1;33m.\u001b[0m\u001b[0m_save_header\u001b[0m\u001b[1;33m(\u001b[0m\u001b[1;33m)\u001b[0m\u001b[1;33m\u001b[0m\u001b[1;33m\u001b[0m\u001b[0m\n\u001b[1;32m--> 262\u001b[1;33m         \u001b[0mself\u001b[0m\u001b[1;33m.\u001b[0m\u001b[0m_save_body\u001b[0m\u001b[1;33m(\u001b[0m\u001b[1;33m)\u001b[0m\u001b[1;33m\u001b[0m\u001b[1;33m\u001b[0m\u001b[0m\n\u001b[0m\u001b[0;32m    263\u001b[0m \u001b[1;33m\u001b[0m\u001b[0m\n\u001b[0;32m    264\u001b[0m     \u001b[1;32mdef\u001b[0m \u001b[0m_save_header\u001b[0m\u001b[1;33m(\u001b[0m\u001b[0mself\u001b[0m\u001b[1;33m)\u001b[0m \u001b[1;33m->\u001b[0m \u001b[1;32mNone\u001b[0m\u001b[1;33m:\u001b[0m\u001b[1;33m\u001b[0m\u001b[1;33m\u001b[0m\u001b[0m\n",
      "\u001b[1;32mc:\\users\\bjbmw\\appdata\\local\\programs\\python\\python37\\lib\\site-packages\\pandas\\io\\formats\\csvs.py\u001b[0m in \u001b[0;36m_save_body\u001b[1;34m(self)\u001b[0m\n\u001b[0;32m    298\u001b[0m             \u001b[1;32mif\u001b[0m \u001b[0mstart_i\u001b[0m \u001b[1;33m>=\u001b[0m \u001b[0mend_i\u001b[0m\u001b[1;33m:\u001b[0m\u001b[1;33m\u001b[0m\u001b[1;33m\u001b[0m\u001b[0m\n\u001b[0;32m    299\u001b[0m                 \u001b[1;32mbreak\u001b[0m\u001b[1;33m\u001b[0m\u001b[1;33m\u001b[0m\u001b[0m\n\u001b[1;32m--> 300\u001b[1;33m             \u001b[0mself\u001b[0m\u001b[1;33m.\u001b[0m\u001b[0m_save_chunk\u001b[0m\u001b[1;33m(\u001b[0m\u001b[0mstart_i\u001b[0m\u001b[1;33m,\u001b[0m \u001b[0mend_i\u001b[0m\u001b[1;33m)\u001b[0m\u001b[1;33m\u001b[0m\u001b[1;33m\u001b[0m\u001b[0m\n\u001b[0m\u001b[0;32m    301\u001b[0m \u001b[1;33m\u001b[0m\u001b[0m\n\u001b[0;32m    302\u001b[0m     \u001b[1;32mdef\u001b[0m \u001b[0m_save_chunk\u001b[0m\u001b[1;33m(\u001b[0m\u001b[0mself\u001b[0m\u001b[1;33m,\u001b[0m \u001b[0mstart_i\u001b[0m\u001b[1;33m:\u001b[0m \u001b[0mint\u001b[0m\u001b[1;33m,\u001b[0m \u001b[0mend_i\u001b[0m\u001b[1;33m:\u001b[0m \u001b[0mint\u001b[0m\u001b[1;33m)\u001b[0m \u001b[1;33m->\u001b[0m \u001b[1;32mNone\u001b[0m\u001b[1;33m:\u001b[0m\u001b[1;33m\u001b[0m\u001b[1;33m\u001b[0m\u001b[0m\n",
      "\u001b[1;32mc:\\users\\bjbmw\\appdata\\local\\programs\\python\\python37\\lib\\site-packages\\pandas\\io\\formats\\csvs.py\u001b[0m in \u001b[0;36m_save_chunk\u001b[1;34m(self, start_i, end_i)\u001b[0m\n\u001b[0;32m    314\u001b[0m             \u001b[0mself\u001b[0m\u001b[1;33m.\u001b[0m\u001b[0mnlevels\u001b[0m\u001b[1;33m,\u001b[0m\u001b[1;33m\u001b[0m\u001b[1;33m\u001b[0m\u001b[0m\n\u001b[0;32m    315\u001b[0m             \u001b[0mself\u001b[0m\u001b[1;33m.\u001b[0m\u001b[0mcols\u001b[0m\u001b[1;33m,\u001b[0m\u001b[1;33m\u001b[0m\u001b[1;33m\u001b[0m\u001b[0m\n\u001b[1;32m--> 316\u001b[1;33m             \u001b[0mself\u001b[0m\u001b[1;33m.\u001b[0m\u001b[0mwriter\u001b[0m\u001b[1;33m,\u001b[0m\u001b[1;33m\u001b[0m\u001b[1;33m\u001b[0m\u001b[0m\n\u001b[0m\u001b[0;32m    317\u001b[0m         )\n",
      "\u001b[1;32mc:\\users\\bjbmw\\appdata\\local\\programs\\python\\python37\\lib\\site-packages\\pandas\\_libs\\writers.pyx\u001b[0m in \u001b[0;36mpandas._libs.writers.write_csv_rows\u001b[1;34m()\u001b[0m\n",
      "\u001b[1;32mc:\\users\\bjbmw\\appdata\\local\\programs\\python\\python37\\lib\\encodings\\mbcs.py\u001b[0m in \u001b[0;36mencode\u001b[1;34m(self, input, final)\u001b[0m\n\u001b[0;32m     23\u001b[0m \u001b[1;32mclass\u001b[0m \u001b[0mIncrementalEncoder\u001b[0m\u001b[1;33m(\u001b[0m\u001b[0mcodecs\u001b[0m\u001b[1;33m.\u001b[0m\u001b[0mIncrementalEncoder\u001b[0m\u001b[1;33m)\u001b[0m\u001b[1;33m:\u001b[0m\u001b[1;33m\u001b[0m\u001b[1;33m\u001b[0m\u001b[0m\n\u001b[0;32m     24\u001b[0m     \u001b[1;32mdef\u001b[0m \u001b[0mencode\u001b[0m\u001b[1;33m(\u001b[0m\u001b[0mself\u001b[0m\u001b[1;33m,\u001b[0m \u001b[0minput\u001b[0m\u001b[1;33m,\u001b[0m \u001b[0mfinal\u001b[0m\u001b[1;33m=\u001b[0m\u001b[1;32mFalse\u001b[0m\u001b[1;33m)\u001b[0m\u001b[1;33m:\u001b[0m\u001b[1;33m\u001b[0m\u001b[1;33m\u001b[0m\u001b[0m\n\u001b[1;32m---> 25\u001b[1;33m         \u001b[1;32mreturn\u001b[0m \u001b[0mmbcs_encode\u001b[0m\u001b[1;33m(\u001b[0m\u001b[0minput\u001b[0m\u001b[1;33m,\u001b[0m \u001b[0mself\u001b[0m\u001b[1;33m.\u001b[0m\u001b[0merrors\u001b[0m\u001b[1;33m)\u001b[0m\u001b[1;33m[\u001b[0m\u001b[1;36m0\u001b[0m\u001b[1;33m]\u001b[0m\u001b[1;33m\u001b[0m\u001b[1;33m\u001b[0m\u001b[0m\n\u001b[0m\u001b[0;32m     26\u001b[0m \u001b[1;33m\u001b[0m\u001b[0m\n\u001b[0;32m     27\u001b[0m \u001b[1;32mclass\u001b[0m \u001b[0mIncrementalDecoder\u001b[0m\u001b[1;33m(\u001b[0m\u001b[0mcodecs\u001b[0m\u001b[1;33m.\u001b[0m\u001b[0mBufferedIncrementalDecoder\u001b[0m\u001b[1;33m)\u001b[0m\u001b[1;33m:\u001b[0m\u001b[1;33m\u001b[0m\u001b[1;33m\u001b[0m\u001b[0m\n",
      "\u001b[1;31mUnicodeEncodeError\u001b[0m: 'mbcs' codec can't encode characters in position 0--1: invalid character"
     ]
    }
   ],
   "source": [
    "merged_master2.to_csv(\"mastery.csv\",index=False, encoding='ANSI') #zapisywanie do csv"
   ]
  },
  {
   "cell_type": "code",
   "execution_count": 481,
   "id": "474d6431",
   "metadata": {},
   "outputs": [],
   "source": [
    "merged_master2.reset_index(drop=True, inplace=True)"
   ]
  },
  {
   "cell_type": "code",
   "execution_count": 405,
   "id": "a145da48",
   "metadata": {},
   "outputs": [
    {
     "data": {
      "text/html": [
       "<div>\n",
       "<style scoped>\n",
       "    .dataframe tbody tr th:only-of-type {\n",
       "        vertical-align: middle;\n",
       "    }\n",
       "\n",
       "    .dataframe tbody tr th {\n",
       "        vertical-align: top;\n",
       "    }\n",
       "\n",
       "    .dataframe thead th {\n",
       "        text-align: right;\n",
       "    }\n",
       "</style>\n",
       "<table border=\"1\" class=\"dataframe\">\n",
       "  <thead>\n",
       "    <tr style=\"text-align: right;\">\n",
       "      <th></th>\n",
       "      <th>Name</th>\n",
       "      <th>kf_completions</th>\n",
       "      <th>vod_completions</th>\n",
       "      <th>vog_completions</th>\n",
       "      <th>ron_completions</th>\n",
       "      <th>sum_completions</th>\n",
       "    </tr>\n",
       "  </thead>\n",
       "  <tbody>\n",
       "    <tr>\n",
       "      <th>0</th>\n",
       "      <td>Skid#4782</td>\n",
       "      <td>11.0</td>\n",
       "      <td>34.0</td>\n",
       "      <td>73.0</td>\n",
       "      <td>15.0</td>\n",
       "      <td>133.0</td>\n",
       "    </tr>\n",
       "    <tr>\n",
       "      <th>1</th>\n",
       "      <td>Shreked#7381</td>\n",
       "      <td>28.0</td>\n",
       "      <td>9.0</td>\n",
       "      <td>73.0</td>\n",
       "      <td>2.0</td>\n",
       "      <td>112.0</td>\n",
       "    </tr>\n",
       "    <tr>\n",
       "      <th>2</th>\n",
       "      <td>Jacao#8369</td>\n",
       "      <td>16.0</td>\n",
       "      <td>44.0</td>\n",
       "      <td>36.0</td>\n",
       "      <td>11.0</td>\n",
       "      <td>107.0</td>\n",
       "    </tr>\n",
       "    <tr>\n",
       "      <th>3</th>\n",
       "      <td>dele super kozak#4272</td>\n",
       "      <td>7.0</td>\n",
       "      <td>18.0</td>\n",
       "      <td>39.0</td>\n",
       "      <td>18.0</td>\n",
       "      <td>82.0</td>\n",
       "    </tr>\n",
       "    <tr>\n",
       "      <th>4</th>\n",
       "      <td>Hardy®#8399</td>\n",
       "      <td>13.0</td>\n",
       "      <td>19.0</td>\n",
       "      <td>43.0</td>\n",
       "      <td>4.0</td>\n",
       "      <td>79.0</td>\n",
       "    </tr>\n",
       "    <tr>\n",
       "      <th>...</th>\n",
       "      <td>...</td>\n",
       "      <td>...</td>\n",
       "      <td>...</td>\n",
       "      <td>...</td>\n",
       "      <td>...</td>\n",
       "      <td>...</td>\n",
       "    </tr>\n",
       "    <tr>\n",
       "      <th>931</th>\n",
       "      <td>PDN-Cichociemny#3052</td>\n",
       "      <td>0.0</td>\n",
       "      <td>0.0</td>\n",
       "      <td>1.0</td>\n",
       "      <td>0.0</td>\n",
       "      <td>1.0</td>\n",
       "    </tr>\n",
       "    <tr>\n",
       "      <th>932</th>\n",
       "      <td>RAT KING#6446</td>\n",
       "      <td>0.0</td>\n",
       "      <td>0.0</td>\n",
       "      <td>1.0</td>\n",
       "      <td>0.0</td>\n",
       "      <td>1.0</td>\n",
       "    </tr>\n",
       "    <tr>\n",
       "      <th>933</th>\n",
       "      <td>Mr.K1tty#9874</td>\n",
       "      <td>0.0</td>\n",
       "      <td>0.0</td>\n",
       "      <td>1.0</td>\n",
       "      <td>0.0</td>\n",
       "      <td>1.0</td>\n",
       "    </tr>\n",
       "    <tr>\n",
       "      <th>934</th>\n",
       "      <td>jlk#6957</td>\n",
       "      <td>0.0</td>\n",
       "      <td>0.0</td>\n",
       "      <td>1.0</td>\n",
       "      <td>0.0</td>\n",
       "      <td>1.0</td>\n",
       "    </tr>\n",
       "    <tr>\n",
       "      <th>935</th>\n",
       "      <td>Jay#8445</td>\n",
       "      <td>0.0</td>\n",
       "      <td>0.0</td>\n",
       "      <td>0.0</td>\n",
       "      <td>1.0</td>\n",
       "      <td>1.0</td>\n",
       "    </tr>\n",
       "  </tbody>\n",
       "</table>\n",
       "<p>936 rows × 6 columns</p>\n",
       "</div>"
      ],
      "text/plain": [
       "                       Name  kf_completions  vod_completions  vog_completions  \\\n",
       "0                 Skid#4782            11.0             34.0             73.0   \n",
       "1              Shreked#7381            28.0              9.0             73.0   \n",
       "2                Jacao#8369            16.0             44.0             36.0   \n",
       "3     dele super kozak#4272             7.0             18.0             39.0   \n",
       "4               Hardy®#8399            13.0             19.0             43.0   \n",
       "..                      ...             ...              ...              ...   \n",
       "931    PDN-Cichociemny#3052             0.0              0.0              1.0   \n",
       "932           RAT KING#6446             0.0              0.0              1.0   \n",
       "933           Mr.K1tty#9874             0.0              0.0              1.0   \n",
       "934                jlk#6957             0.0              0.0              1.0   \n",
       "935                Jay#8445             0.0              0.0              0.0   \n",
       "\n",
       "     ron_completions  sum_completions  \n",
       "0               15.0            133.0  \n",
       "1                2.0            112.0  \n",
       "2               11.0            107.0  \n",
       "3               18.0             82.0  \n",
       "4                4.0             79.0  \n",
       "..               ...              ...  \n",
       "931              0.0              1.0  \n",
       "932              0.0              1.0  \n",
       "933              0.0              1.0  \n",
       "934              0.0              1.0  \n",
       "935              1.0              1.0  \n",
       "\n",
       "[936 rows x 6 columns]"
      ]
     },
     "execution_count": 405,
     "metadata": {},
     "output_type": "execute_result"
    }
   ],
   "source": [
    "merged_master2"
   ]
  },
  {
   "cell_type": "code",
   "execution_count": 522,
   "id": "eedbca6e",
   "metadata": {},
   "outputs": [
    {
     "data": {
      "text/html": [
       "<div>\n",
       "<style scoped>\n",
       "    .dataframe tbody tr th:only-of-type {\n",
       "        vertical-align: middle;\n",
       "    }\n",
       "\n",
       "    .dataframe tbody tr th {\n",
       "        vertical-align: top;\n",
       "    }\n",
       "\n",
       "    .dataframe thead th {\n",
       "        text-align: right;\n",
       "    }\n",
       "</style>\n",
       "<table border=\"1\" class=\"dataframe\">\n",
       "  <thead>\n",
       "    <tr style=\"text-align: right;\">\n",
       "      <th></th>\n",
       "      <th>Name</th>\n",
       "      <th>gotd_time</th>\n",
       "    </tr>\n",
       "  </thead>\n",
       "  <tbody>\n",
       "    <tr>\n",
       "      <th>1</th>\n",
       "      <td>Collew#2191</td>\n",
       "      <td>14m 52s</td>\n",
       "    </tr>\n",
       "    <tr>\n",
       "      <th>2</th>\n",
       "      <td>bmw0108#6400</td>\n",
       "      <td>14m 52s</td>\n",
       "    </tr>\n",
       "    <tr>\n",
       "      <th>3</th>\n",
       "      <td>dele super kozak#4272</td>\n",
       "      <td>14m 52s</td>\n",
       "    </tr>\n",
       "    <tr>\n",
       "      <th>4</th>\n",
       "      <td>Tetrodoksyna#0361</td>\n",
       "      <td>21m 56s</td>\n",
       "    </tr>\n",
       "    <tr>\n",
       "      <th>5</th>\n",
       "      <td>Skid#4782</td>\n",
       "      <td>23m 03s</td>\n",
       "    </tr>\n",
       "    <tr>\n",
       "      <th>...</th>\n",
       "      <td>...</td>\n",
       "      <td>...</td>\n",
       "    </tr>\n",
       "    <tr>\n",
       "      <th>1069</th>\n",
       "      <td>Morelass#2407</td>\n",
       "      <td>4h 44m</td>\n",
       "    </tr>\n",
       "    <tr>\n",
       "      <th>1070</th>\n",
       "      <td>Cichopek123#0213</td>\n",
       "      <td>4h 58m</td>\n",
       "    </tr>\n",
       "    <tr>\n",
       "      <th>1071</th>\n",
       "      <td>Pawelice#9455</td>\n",
       "      <td>5h 04m</td>\n",
       "    </tr>\n",
       "    <tr>\n",
       "      <th>1072</th>\n",
       "      <td>Kindzej234#1287</td>\n",
       "      <td>5h 25m</td>\n",
       "    </tr>\n",
       "    <tr>\n",
       "      <th>1073</th>\n",
       "      <td>Kawka#3462</td>\n",
       "      <td>5h 25m</td>\n",
       "    </tr>\n",
       "  </tbody>\n",
       "</table>\n",
       "<p>1073 rows × 2 columns</p>\n",
       "</div>"
      ],
      "text/plain": [
       "                        Name gotd_time\n",
       "1                Collew#2191   14m 52s\n",
       "2               bmw0108#6400   14m 52s\n",
       "3      dele super kozak#4272   14m 52s\n",
       "4          Tetrodoksyna#0361   21m 56s\n",
       "5                  Skid#4782   23m 03s\n",
       "...                      ...       ...\n",
       "1069           Morelass#2407    4h 44m\n",
       "1070        Cichopek123#0213    4h 58m\n",
       "1071           Pawelice#9455    5h 04m\n",
       "1072         Kindzej234#1287    5h 25m\n",
       "1073              Kawka#3462    5h 25m\n",
       "\n",
       "[1073 rows x 2 columns]"
      ]
     },
     "execution_count": 522,
     "metadata": {},
     "output_type": "execute_result"
    }
   ],
   "source": [
    "gotd_time"
   ]
  },
  {
   "cell_type": "code",
   "execution_count": 523,
   "id": "fd7b3cb9",
   "metadata": {},
   "outputs": [
    {
     "data": {
      "text/html": [
       "<div>\n",
       "<style scoped>\n",
       "    .dataframe tbody tr th:only-of-type {\n",
       "        vertical-align: middle;\n",
       "    }\n",
       "\n",
       "    .dataframe tbody tr th {\n",
       "        vertical-align: top;\n",
       "    }\n",
       "\n",
       "    .dataframe thead th {\n",
       "        text-align: right;\n",
       "    }\n",
       "</style>\n",
       "<table border=\"1\" class=\"dataframe\">\n",
       "  <thead>\n",
       "    <tr style=\"text-align: right;\">\n",
       "      <th></th>\n",
       "      <th>Name</th>\n",
       "      <th>gotd_completions</th>\n",
       "    </tr>\n",
       "  </thead>\n",
       "  <tbody>\n",
       "    <tr>\n",
       "      <th>0</th>\n",
       "      <td>NugSponge#2747</td>\n",
       "      <td>35</td>\n",
       "    </tr>\n",
       "    <tr>\n",
       "      <th>1</th>\n",
       "      <td>Arathierl#7089</td>\n",
       "      <td>31</td>\n",
       "    </tr>\n",
       "    <tr>\n",
       "      <th>2</th>\n",
       "      <td>Skid#4782</td>\n",
       "      <td>29</td>\n",
       "    </tr>\n",
       "    <tr>\n",
       "      <th>3</th>\n",
       "      <td>BernieONE#9082</td>\n",
       "      <td>26</td>\n",
       "    </tr>\n",
       "    <tr>\n",
       "      <th>4</th>\n",
       "      <td>ąąąąąąąąąąąąąąąą#6288</td>\n",
       "      <td>23</td>\n",
       "    </tr>\n",
       "    <tr>\n",
       "      <th>...</th>\n",
       "      <td>...</td>\n",
       "      <td>...</td>\n",
       "    </tr>\n",
       "    <tr>\n",
       "      <th>1068</th>\n",
       "      <td>artur2876#4514</td>\n",
       "      <td>1</td>\n",
       "    </tr>\n",
       "    <tr>\n",
       "      <th>1069</th>\n",
       "      <td>gregor_41#0587</td>\n",
       "      <td>1</td>\n",
       "    </tr>\n",
       "    <tr>\n",
       "      <th>1070</th>\n",
       "      <td>XxGuardian2137xX#0763</td>\n",
       "      <td>1</td>\n",
       "    </tr>\n",
       "    <tr>\n",
       "      <th>1071</th>\n",
       "      <td>ImSpookySs#5478</td>\n",
       "      <td>1</td>\n",
       "    </tr>\n",
       "    <tr>\n",
       "      <th>1072</th>\n",
       "      <td>kunaQQ#5425</td>\n",
       "      <td>1</td>\n",
       "    </tr>\n",
       "  </tbody>\n",
       "</table>\n",
       "<p>1073 rows × 2 columns</p>\n",
       "</div>"
      ],
      "text/plain": [
       "                        Name  gotd_completions\n",
       "0             NugSponge#2747                35\n",
       "1             Arathierl#7089                31\n",
       "2                  Skid#4782                29\n",
       "3             BernieONE#9082                26\n",
       "4      ąąąąąąąąąąąąąąąą#6288                23\n",
       "...                      ...               ...\n",
       "1068          artur2876#4514                 1\n",
       "1069          gregor_41#0587                 1\n",
       "1070   XxGuardian2137xX#0763                 1\n",
       "1071         ImSpookySs#5478                 1\n",
       "1072             kunaQQ#5425                 1\n",
       "\n",
       "[1073 rows x 2 columns]"
      ]
     },
     "execution_count": 523,
     "metadata": {},
     "output_type": "execute_result"
    }
   ],
   "source": [
    "gotd_completions"
   ]
  },
  {
   "cell_type": "code",
   "execution_count": 3,
   "id": "be3172e7",
   "metadata": {},
   "outputs": [],
   "source": [
    "gotd = pd.merge(gotd_completions , gotd_time, on='Name', how='inner')"
   ]
  },
  {
   "cell_type": "code",
   "execution_count": 4,
   "id": "26ccd3ac",
   "metadata": {},
   "outputs": [],
   "source": [
    "duality = pd.merge(duality_completions , duality_time, on='Name', how='inner')"
   ]
  },
  {
   "cell_type": "code",
   "execution_count": 5,
   "id": "11a999a8",
   "metadata": {},
   "outputs": [],
   "source": [
    "prophecy = pd.merge(prophecy_completions , prophecy_time, on='Name', how='inner')\n"
   ]
  },
  {
   "cell_type": "code",
   "execution_count": 112,
   "id": "c18b1c0c",
   "metadata": {},
   "outputs": [],
   "source": [
    "pit = pd.merge(pit_completions , pit_time, on='Name', how='inner')"
   ]
  },
  {
   "cell_type": "code",
   "execution_count": 6,
   "id": "a3947149",
   "metadata": {},
   "outputs": [
    {
     "data": {
      "text/plain": [
       "'35m 09s'"
      ]
     },
     "execution_count": 6,
     "metadata": {},
     "output_type": "execute_result"
    }
   ],
   "source": [
    "lol = gotd.iloc[:,1:3]\n",
    "lol['gotd_time'].iloc[1]"
   ]
  },
  {
   "cell_type": "code",
   "execution_count": 9,
   "id": "aa922b7e",
   "metadata": {},
   "outputs": [],
   "source": [
    "def time_to_seconds(time_str):\n",
    "    time_str = time_str.strip()\n",
    "    time_values = time_str.split(' ')\n",
    "    hours, minutes, seconds = 0, 0, 0\n",
    "\n",
    "    for value in time_values:\n",
    "        if value[-1] == 'h':\n",
    "            hours = int(value[:-1])\n",
    "        elif value[-1] == 'm':\n",
    "            minutes = int(value[:-1])\n",
    "        elif value[-1] == 's':\n",
    "            seconds = int(value[:-1])\n",
    "\n",
    "    total_seconds = hours * 3600 + minutes * 60 + seconds\n",
    "    return total_seconds\n"
   ]
  },
  {
   "cell_type": "code",
   "execution_count": 10,
   "id": "6a521d2c",
   "metadata": {},
   "outputs": [],
   "source": [
    "lol['time_seconds'] = lol['gotd_time'].apply(time_to_seconds)"
   ]
  },
  {
   "cell_type": "code",
   "execution_count": 11,
   "id": "94ca10ac",
   "metadata": {},
   "outputs": [],
   "source": [
    "duality['time_seconds'] = duality['duality_time'].apply(time_to_seconds)"
   ]
  },
  {
   "cell_type": "code",
   "execution_count": 12,
   "id": "edfb3800",
   "metadata": {},
   "outputs": [],
   "source": [
    "prophecy['time_seconds'] = prophecy['prophecy_time'].apply(time_to_seconds)"
   ]
  },
  {
   "cell_type": "code",
   "execution_count": 113,
   "id": "d7e24433",
   "metadata": {},
   "outputs": [],
   "source": [
    "pit['time_seconds'] = pit['pit_time'].apply(time_to_seconds)"
   ]
  },
  {
   "cell_type": "code",
   "execution_count": 13,
   "id": "8fa3e58d",
   "metadata": {},
   "outputs": [],
   "source": [
    "dual = duality.sort_values('time_seconds')\n",
    "dual.reset_index(drop=True, inplace=True)"
   ]
  },
  {
   "cell_type": "code",
   "execution_count": 14,
   "id": "3bc7493b",
   "metadata": {},
   "outputs": [],
   "source": [
    "nowy = lol.sort_values('time_seconds')\n",
    "nowy.reset_index(drop=True, inplace=True)"
   ]
  },
  {
   "cell_type": "code",
   "execution_count": 15,
   "id": "27c755de",
   "metadata": {},
   "outputs": [],
   "source": [
    "proph = prophecy.sort_values('time_seconds')\n",
    "proph.reset_index(drop=True, inplace=True)"
   ]
  },
  {
   "cell_type": "code",
   "execution_count": 114,
   "id": "99406f28",
   "metadata": {},
   "outputs": [],
   "source": [
    "picior = pit.sort_values('time_seconds')\n",
    "picior.reset_index(drop=True, inplace=True)"
   ]
  },
  {
   "cell_type": "code",
   "execution_count": 559,
   "id": "00552787",
   "metadata": {},
   "outputs": [
    {
     "data": {
      "text/html": [
       "<div>\n",
       "<style scoped>\n",
       "    .dataframe tbody tr th:only-of-type {\n",
       "        vertical-align: middle;\n",
       "    }\n",
       "\n",
       "    .dataframe tbody tr th {\n",
       "        vertical-align: top;\n",
       "    }\n",
       "\n",
       "    .dataframe thead th {\n",
       "        text-align: right;\n",
       "    }\n",
       "</style>\n",
       "<table border=\"1\" class=\"dataframe\">\n",
       "  <thead>\n",
       "    <tr style=\"text-align: right;\">\n",
       "      <th></th>\n",
       "      <th>gotd_completions</th>\n",
       "      <th>gotd_time</th>\n",
       "      <th>time_seconds</th>\n",
       "    </tr>\n",
       "  </thead>\n",
       "  <tbody>\n",
       "    <tr>\n",
       "      <th>0</th>\n",
       "      <td>14</td>\n",
       "      <td>14m 52s</td>\n",
       "      <td>892</td>\n",
       "    </tr>\n",
       "    <tr>\n",
       "      <th>1</th>\n",
       "      <td>21</td>\n",
       "      <td>14m 52s</td>\n",
       "      <td>892</td>\n",
       "    </tr>\n",
       "    <tr>\n",
       "      <th>2</th>\n",
       "      <td>16</td>\n",
       "      <td>14m 52s</td>\n",
       "      <td>892</td>\n",
       "    </tr>\n",
       "    <tr>\n",
       "      <th>3</th>\n",
       "      <td>18</td>\n",
       "      <td>21m 56s</td>\n",
       "      <td>1316</td>\n",
       "    </tr>\n",
       "    <tr>\n",
       "      <th>4</th>\n",
       "      <td>29</td>\n",
       "      <td>23m 03s</td>\n",
       "      <td>1383</td>\n",
       "    </tr>\n",
       "    <tr>\n",
       "      <th>...</th>\n",
       "      <td>...</td>\n",
       "      <td>...</td>\n",
       "      <td>...</td>\n",
       "    </tr>\n",
       "    <tr>\n",
       "      <th>1068</th>\n",
       "      <td>1</td>\n",
       "      <td>4h 44m</td>\n",
       "      <td>17040</td>\n",
       "    </tr>\n",
       "    <tr>\n",
       "      <th>1069</th>\n",
       "      <td>1</td>\n",
       "      <td>4h 58m</td>\n",
       "      <td>17880</td>\n",
       "    </tr>\n",
       "    <tr>\n",
       "      <th>1070</th>\n",
       "      <td>1</td>\n",
       "      <td>5h 04m</td>\n",
       "      <td>18240</td>\n",
       "    </tr>\n",
       "    <tr>\n",
       "      <th>1071</th>\n",
       "      <td>1</td>\n",
       "      <td>5h 25m</td>\n",
       "      <td>19500</td>\n",
       "    </tr>\n",
       "    <tr>\n",
       "      <th>1072</th>\n",
       "      <td>1</td>\n",
       "      <td>5h 25m</td>\n",
       "      <td>19500</td>\n",
       "    </tr>\n",
       "  </tbody>\n",
       "</table>\n",
       "<p>1073 rows × 3 columns</p>\n",
       "</div>"
      ],
      "text/plain": [
       "      gotd_completions gotd_time  time_seconds\n",
       "0                   14   14m 52s           892\n",
       "1                   21   14m 52s           892\n",
       "2                   16   14m 52s           892\n",
       "3                   18   21m 56s          1316\n",
       "4                   29   23m 03s          1383\n",
       "...                ...       ...           ...\n",
       "1068                 1    4h 44m         17040\n",
       "1069                 1    4h 58m         17880\n",
       "1070                 1    5h 04m         18240\n",
       "1071                 1    5h 25m         19500\n",
       "1072                 1    5h 25m         19500\n",
       "\n",
       "[1073 rows x 3 columns]"
      ]
     },
     "execution_count": 559,
     "metadata": {},
     "output_type": "execute_result"
    }
   ],
   "source": [
    "nowy"
   ]
  },
  {
   "cell_type": "code",
   "execution_count": 553,
   "id": "48260927",
   "metadata": {},
   "outputs": [
    {
     "data": {
      "text/html": [
       "<div>\n",
       "<style scoped>\n",
       "    .dataframe tbody tr th:only-of-type {\n",
       "        vertical-align: middle;\n",
       "    }\n",
       "\n",
       "    .dataframe tbody tr th {\n",
       "        vertical-align: top;\n",
       "    }\n",
       "\n",
       "    .dataframe thead th {\n",
       "        text-align: right;\n",
       "    }\n",
       "</style>\n",
       "<table border=\"1\" class=\"dataframe\">\n",
       "  <thead>\n",
       "    <tr style=\"text-align: right;\">\n",
       "      <th></th>\n",
       "      <th>Name</th>\n",
       "      <th>duality_completions</th>\n",
       "      <th>duality_time</th>\n",
       "      <th>time_seconds</th>\n",
       "    </tr>\n",
       "  </thead>\n",
       "  <tbody>\n",
       "    <tr>\n",
       "      <th>0</th>\n",
       "      <td>Skid#4782</td>\n",
       "      <td>105</td>\n",
       "      <td>10m 24s</td>\n",
       "      <td>624</td>\n",
       "    </tr>\n",
       "    <tr>\n",
       "      <th>1</th>\n",
       "      <td>bmw0108#6400</td>\n",
       "      <td>93</td>\n",
       "      <td>10m 24s</td>\n",
       "      <td>624</td>\n",
       "    </tr>\n",
       "    <tr>\n",
       "      <th>2</th>\n",
       "      <td>Nocker29#8803</td>\n",
       "      <td>96</td>\n",
       "      <td>10m 24s</td>\n",
       "      <td>624</td>\n",
       "    </tr>\n",
       "    <tr>\n",
       "      <th>3</th>\n",
       "      <td>Hardy®#8399</td>\n",
       "      <td>136</td>\n",
       "      <td>12m 10s</td>\n",
       "      <td>730</td>\n",
       "    </tr>\n",
       "    <tr>\n",
       "      <th>4</th>\n",
       "      <td>og#8284</td>\n",
       "      <td>100</td>\n",
       "      <td>12m 10s</td>\n",
       "      <td>730</td>\n",
       "    </tr>\n",
       "    <tr>\n",
       "      <th>...</th>\n",
       "      <td>...</td>\n",
       "      <td>...</td>\n",
       "      <td>...</td>\n",
       "      <td>...</td>\n",
       "    </tr>\n",
       "    <tr>\n",
       "      <th>532</th>\n",
       "      <td>Voodun70#9298</td>\n",
       "      <td>96</td>\n",
       "      <td>51m 58s</td>\n",
       "      <td>3118</td>\n",
       "    </tr>\n",
       "    <tr>\n",
       "      <th>533</th>\n",
       "      <td>adriankzsr#2996</td>\n",
       "      <td>46</td>\n",
       "      <td>53m 23s</td>\n",
       "      <td>3203</td>\n",
       "    </tr>\n",
       "    <tr>\n",
       "      <th>534</th>\n",
       "      <td>Sebs0n_ftw#6257</td>\n",
       "      <td>40</td>\n",
       "      <td>53m 52s</td>\n",
       "      <td>3232</td>\n",
       "    </tr>\n",
       "    <tr>\n",
       "      <th>535</th>\n",
       "      <td>Kazu#4639</td>\n",
       "      <td>31</td>\n",
       "      <td>57m 37s</td>\n",
       "      <td>3457</td>\n",
       "    </tr>\n",
       "    <tr>\n",
       "      <th>536</th>\n",
       "      <td>Alagor0#8552</td>\n",
       "      <td>34</td>\n",
       "      <td>1h 00m</td>\n",
       "      <td>3600</td>\n",
       "    </tr>\n",
       "  </tbody>\n",
       "</table>\n",
       "<p>537 rows × 4 columns</p>\n",
       "</div>"
      ],
      "text/plain": [
       "                 Name  duality_completions duality_time  time_seconds\n",
       "0           Skid#4782                  105      10m 24s           624\n",
       "1        bmw0108#6400                   93      10m 24s           624\n",
       "2       Nocker29#8803                   96      10m 24s           624\n",
       "3         Hardy®#8399                  136      12m 10s           730\n",
       "4             og#8284                  100      12m 10s           730\n",
       "..                ...                  ...          ...           ...\n",
       "532     Voodun70#9298                   96      51m 58s          3118\n",
       "533   adriankzsr#2996                   46      53m 23s          3203\n",
       "534   Sebs0n_ftw#6257                   40      53m 52s          3232\n",
       "535         Kazu#4639                   31      57m 37s          3457\n",
       "536      Alagor0#8552                   34       1h 00m          3600\n",
       "\n",
       "[537 rows x 4 columns]"
      ]
     },
     "execution_count": 553,
     "metadata": {},
     "output_type": "execute_result"
    }
   ],
   "source": [
    "dual"
   ]
  },
  {
   "cell_type": "code",
   "execution_count": 602,
   "id": "118b73a8",
   "metadata": {},
   "outputs": [
    {
     "data": {
      "text/html": [
       "<div>\n",
       "<style scoped>\n",
       "    .dataframe tbody tr th:only-of-type {\n",
       "        vertical-align: middle;\n",
       "    }\n",
       "\n",
       "    .dataframe tbody tr th {\n",
       "        vertical-align: top;\n",
       "    }\n",
       "\n",
       "    .dataframe thead th {\n",
       "        text-align: right;\n",
       "    }\n",
       "</style>\n",
       "<table border=\"1\" class=\"dataframe\">\n",
       "  <thead>\n",
       "    <tr style=\"text-align: right;\">\n",
       "      <th></th>\n",
       "      <th>Name</th>\n",
       "      <th>prophecy_completions</th>\n",
       "      <th>prophecy_time</th>\n",
       "      <th>time_seconds</th>\n",
       "    </tr>\n",
       "  </thead>\n",
       "  <tbody>\n",
       "    <tr>\n",
       "      <th>0</th>\n",
       "      <td>bmw0108#6400</td>\n",
       "      <td>83</td>\n",
       "      <td>8m 30s</td>\n",
       "      <td>510</td>\n",
       "    </tr>\n",
       "    <tr>\n",
       "      <th>1</th>\n",
       "      <td>Nocker29#8803</td>\n",
       "      <td>149</td>\n",
       "      <td>8m 30s</td>\n",
       "      <td>510</td>\n",
       "    </tr>\n",
       "    <tr>\n",
       "      <th>2</th>\n",
       "      <td>Skid#4782</td>\n",
       "      <td>114</td>\n",
       "      <td>8m 30s</td>\n",
       "      <td>510</td>\n",
       "    </tr>\n",
       "    <tr>\n",
       "      <th>3</th>\n",
       "      <td>Dezy#5292</td>\n",
       "      <td>75</td>\n",
       "      <td>9m 16s</td>\n",
       "      <td>556</td>\n",
       "    </tr>\n",
       "    <tr>\n",
       "      <th>4</th>\n",
       "      <td>crim.#9184</td>\n",
       "      <td>54</td>\n",
       "      <td>9m 57s</td>\n",
       "      <td>597</td>\n",
       "    </tr>\n",
       "    <tr>\n",
       "      <th>...</th>\n",
       "      <td>...</td>\n",
       "      <td>...</td>\n",
       "      <td>...</td>\n",
       "      <td>...</td>\n",
       "    </tr>\n",
       "    <tr>\n",
       "      <th>706</th>\n",
       "      <td>Morte#4690</td>\n",
       "      <td>32</td>\n",
       "      <td>1h 03m</td>\n",
       "      <td>3780</td>\n",
       "    </tr>\n",
       "    <tr>\n",
       "      <th>707</th>\n",
       "      <td>Drastic#4064</td>\n",
       "      <td>37</td>\n",
       "      <td>1h 05m</td>\n",
       "      <td>3900</td>\n",
       "    </tr>\n",
       "    <tr>\n",
       "      <th>708</th>\n",
       "      <td>Billy_Madox#7177</td>\n",
       "      <td>44</td>\n",
       "      <td>1h 10m</td>\n",
       "      <td>4200</td>\n",
       "    </tr>\n",
       "    <tr>\n",
       "      <th>709</th>\n",
       "      <td>Razjel73#1588</td>\n",
       "      <td>30</td>\n",
       "      <td>1h 27m</td>\n",
       "      <td>5220</td>\n",
       "    </tr>\n",
       "    <tr>\n",
       "      <th>710</th>\n",
       "      <td>Rudakitka</td>\n",
       "      <td>36</td>\n",
       "      <td>1h 44m</td>\n",
       "      <td>6240</td>\n",
       "    </tr>\n",
       "  </tbody>\n",
       "</table>\n",
       "<p>711 rows × 4 columns</p>\n",
       "</div>"
      ],
      "text/plain": [
       "                  Name  prophecy_completions prophecy_time  time_seconds\n",
       "0         bmw0108#6400                    83        8m 30s           510\n",
       "1        Nocker29#8803                   149        8m 30s           510\n",
       "2            Skid#4782                   114        8m 30s           510\n",
       "3            Dezy#5292                    75        9m 16s           556\n",
       "4           crim.#9184                    54        9m 57s           597\n",
       "..                 ...                   ...           ...           ...\n",
       "706         Morte#4690                    32        1h 03m          3780\n",
       "707       Drastic#4064                    37        1h 05m          3900\n",
       "708   Billy_Madox#7177                    44        1h 10m          4200\n",
       "709      Razjel73#1588                    30        1h 27m          5220\n",
       "710          Rudakitka                    36        1h 44m          6240\n",
       "\n",
       "[711 rows x 4 columns]"
      ]
     },
     "execution_count": 602,
     "metadata": {},
     "output_type": "execute_result"
    }
   ],
   "source": [
    "proph"
   ]
  },
  {
   "cell_type": "code",
   "execution_count": 115,
   "id": "68584c05",
   "metadata": {},
   "outputs": [
    {
     "data": {
      "text/html": [
       "<div>\n",
       "<style scoped>\n",
       "    .dataframe tbody tr th:only-of-type {\n",
       "        vertical-align: middle;\n",
       "    }\n",
       "\n",
       "    .dataframe tbody tr th {\n",
       "        vertical-align: top;\n",
       "    }\n",
       "\n",
       "    .dataframe thead th {\n",
       "        text-align: right;\n",
       "    }\n",
       "</style>\n",
       "<table border=\"1\" class=\"dataframe\">\n",
       "  <thead>\n",
       "    <tr style=\"text-align: right;\">\n",
       "      <th></th>\n",
       "      <th>Name</th>\n",
       "      <th>pit_completions</th>\n",
       "      <th>pit_time</th>\n",
       "      <th>time_seconds</th>\n",
       "    </tr>\n",
       "  </thead>\n",
       "  <tbody>\n",
       "    <tr>\n",
       "      <th>0</th>\n",
       "      <td>Skid#4782</td>\n",
       "      <td>114</td>\n",
       "      <td>7m 59s</td>\n",
       "      <td>479</td>\n",
       "    </tr>\n",
       "    <tr>\n",
       "      <th>1</th>\n",
       "      <td>Nocker29#8803</td>\n",
       "      <td>206</td>\n",
       "      <td>7m 59s</td>\n",
       "      <td>479</td>\n",
       "    </tr>\n",
       "    <tr>\n",
       "      <th>2</th>\n",
       "      <td>bmw0108#6400</td>\n",
       "      <td>191</td>\n",
       "      <td>7m 59s</td>\n",
       "      <td>479</td>\n",
       "    </tr>\n",
       "    <tr>\n",
       "      <th>3</th>\n",
       "      <td>Harryy#3348</td>\n",
       "      <td>153</td>\n",
       "      <td>10m 03s</td>\n",
       "      <td>603</td>\n",
       "    </tr>\n",
       "    <tr>\n",
       "      <th>4</th>\n",
       "      <td>REDDO#2280</td>\n",
       "      <td>170</td>\n",
       "      <td>10m 07s</td>\n",
       "      <td>607</td>\n",
       "    </tr>\n",
       "    <tr>\n",
       "      <th>...</th>\n",
       "      <td>...</td>\n",
       "      <td>...</td>\n",
       "      <td>...</td>\n",
       "      <td>...</td>\n",
       "    </tr>\n",
       "    <tr>\n",
       "      <th>669</th>\n",
       "      <td>domino#3464</td>\n",
       "      <td>35</td>\n",
       "      <td>1h 02m</td>\n",
       "      <td>3720</td>\n",
       "    </tr>\n",
       "    <tr>\n",
       "      <th>670</th>\n",
       "      <td>skolimoszczak#0513</td>\n",
       "      <td>38</td>\n",
       "      <td>1h 02m</td>\n",
       "      <td>3720</td>\n",
       "    </tr>\n",
       "    <tr>\n",
       "      <th>671</th>\n",
       "      <td>MonteC#7432</td>\n",
       "      <td>31</td>\n",
       "      <td>2h 09m</td>\n",
       "      <td>7740</td>\n",
       "    </tr>\n",
       "    <tr>\n",
       "      <th>672</th>\n",
       "      <td>Adixor#3824</td>\n",
       "      <td>28</td>\n",
       "      <td>2h 09m</td>\n",
       "      <td>7740</td>\n",
       "    </tr>\n",
       "    <tr>\n",
       "      <th>673</th>\n",
       "      <td>♠♡MasujDzikaBejbe♡♠#1734</td>\n",
       "      <td>93</td>\n",
       "      <td>2h 41m</td>\n",
       "      <td>9660</td>\n",
       "    </tr>\n",
       "  </tbody>\n",
       "</table>\n",
       "<p>674 rows × 4 columns</p>\n",
       "</div>"
      ],
      "text/plain": [
       "                          Name  pit_completions pit_time  time_seconds\n",
       "0                    Skid#4782              114   7m 59s           479\n",
       "1                Nocker29#8803              206   7m 59s           479\n",
       "2                 bmw0108#6400              191   7m 59s           479\n",
       "3                  Harryy#3348              153  10m 03s           603\n",
       "4                   REDDO#2280              170  10m 07s           607\n",
       "..                         ...              ...      ...           ...\n",
       "669                domino#3464               35   1h 02m          3720\n",
       "670         skolimoszczak#0513               38   1h 02m          3720\n",
       "671                MonteC#7432               31   2h 09m          7740\n",
       "672                Adixor#3824               28   2h 09m          7740\n",
       "673   ♠♡MasujDzikaBejbe♡♠#1734               93   2h 41m          9660\n",
       "\n",
       "[674 rows x 4 columns]"
      ]
     },
     "execution_count": 115,
     "metadata": {},
     "output_type": "execute_result"
    }
   ],
   "source": [
    "\n",
    "picior\n",
    "#np.mean(picior['pit_completions'])"
   ]
  },
  {
   "cell_type": "code",
   "execution_count": 34,
   "id": "63cf0838",
   "metadata": {
    "scrolled": false
   },
   "outputs": [
    {
     "data": {
      "image/png": "[encoded data removed]",
      "text/plain": [
       "<Figure size 640x480 with 1 Axes>"
      ]
     },
     "metadata": {},
     "output_type": "display_data"
    }
   ],
   "source": [
    "plt.plot(proph['time_seconds'])\n",
    "\n",
    "#plt.hist(nowy['gotd_completions']) \n",
    "plt.ylabel('Time (seconds)')\n",
    "#plt.xlabel('Completion Amount')\n",
    "#plt.title('Completion Amount vs. Time')\n",
    "plt.grid(True)\n",
    "plt.show()"
   ]
  },
  {
   "cell_type": "code",
   "execution_count": 20,
   "id": "4bc323f5",
   "metadata": {},
   "outputs": [],
   "source": [
    "seconds = np.mean(nowy['time_seconds'])"
   ]
  },
  {
   "cell_type": "code",
   "execution_count": 21,
   "id": "050cc456",
   "metadata": {},
   "outputs": [
    {
     "data": {
      "text/plain": [
       "'00:52:45'"
      ]
     },
     "execution_count": 21,
     "metadata": {},
     "output_type": "execute_result"
    }
   ],
   "source": [
    "import time\n",
    "convert = time.strftime(\"%H:%M:%S\", time.gmtime(seconds))\n",
    "convert"
   ]
  },
  {
   "cell_type": "code",
   "execution_count": 22,
   "id": "df1b32f5",
   "metadata": {},
   "outputs": [
    {
     "data": {
      "text/plain": [
       "8.963144963144963"
      ]
     },
     "execution_count": 22,
     "metadata": {},
     "output_type": "execute_result"
    }
   ],
   "source": [
    "np.mean(nowy['gotd_completions'])"
   ]
  },
  {
   "cell_type": "code",
   "execution_count": 23,
   "id": "da62fa0c",
   "metadata": {},
   "outputs": [
    {
     "data": {
      "text/plain": [
       "56.56821378340366"
      ]
     },
     "execution_count": 23,
     "metadata": {},
     "output_type": "execute_result"
    }
   ],
   "source": [
    "np.mean(proph['prophecy_completions'])"
   ]
  },
  {
   "cell_type": "code",
   "execution_count": 24,
   "id": "21ed1714",
   "metadata": {},
   "outputs": [],
   "source": [
    "ss = np.mean(proph['time_seconds'])"
   ]
  },
  {
   "cell_type": "code",
   "execution_count": 25,
   "id": "128f2ebd",
   "metadata": {},
   "outputs": [],
   "source": [
    "s = np.mean(dual['time_seconds'])"
   ]
  },
  {
   "cell_type": "code",
   "execution_count": 26,
   "id": "d00aa2e8",
   "metadata": {},
   "outputs": [
    {
     "data": {
      "text/plain": [
       "'00:30:33'"
      ]
     },
     "execution_count": 26,
     "metadata": {},
     "output_type": "execute_result"
    }
   ],
   "source": [
    "time_duality = time.strftime(\"%H:%M:%S\", time.gmtime(s))\n",
    "time_duality"
   ]
  },
  {
   "cell_type": "code",
   "execution_count": 27,
   "id": "f9e1e63d",
   "metadata": {},
   "outputs": [
    {
     "data": {
      "text/plain": [
       "'00:29:14'"
      ]
     },
     "execution_count": 27,
     "metadata": {},
     "output_type": "execute_result"
    }
   ],
   "source": [
    "time_prophecy = time.strftime(\"%H:%M:%S\", time.gmtime(ss))\n",
    "time_prophecy"
   ]
  },
  {
   "cell_type": "code",
   "execution_count": 48,
   "id": "c11feaeb",
   "metadata": {},
   "outputs": [
    {
     "data": {
      "text/plain": [
       "0       624\n",
       "1       624\n",
       "2       624\n",
       "3       730\n",
       "4       730\n",
       "       ... \n",
       "532    3118\n",
       "533    3203\n",
       "534    3232\n",
       "535    3457\n",
       "536    3600\n",
       "Name: time_seconds, Length: 537, dtype: int64"
      ]
     },
     "execution_count": 48,
     "metadata": {},
     "output_type": "execute_result"
    }
   ],
   "source": [
    "dual['time_seconds']\n"
   ]
  },
  {
   "cell_type": "code",
   "execution_count": 59,
   "id": "a07760eb",
   "metadata": {},
   "outputs": [],
   "source": [
    "shape, loc, scale = skewnorm.fit(dual['time_seconds'])"
   ]
  },
  {
   "cell_type": "code",
   "execution_count": 61,
   "id": "975e54a0",
   "metadata": {},
   "outputs": [
    {
     "data": {
      "image/png": "[encoded data removed]",
      "text/plain": [
       "<Figure size 640x480 with 1 Axes>"
      ]
     },
     "metadata": {},
     "output_type": "display_data"
    }
   ],
   "source": [
    "plt.hist(dual['time_seconds'], density = True)\n",
    "xs = np.linspace(min(dual['time_seconds']), max(dual['time_seconds']), 1000)\n",
    "fitted_pdf = skewnorm.pdf(xs, shape, loc, scale)\n",
    "plt.plot(xs, fitted_pdf)\n",
    "#plt.plot(xs,norm.pdf(xs, np.mean(dual['time_seconds']), np.std(dual['time_seconds'])))\n",
    "#plt.hist(nowy['time_seconds'])\n",
    "#plt.hist(proph['time_seconds'])\n",
    "#plt.hist(nowy['gotd_completions']) \n",
    "#plt.ylabel('Time (seconds)')\n",
    "#plt.xlabel('Completion Amount')\n",
    "plt.title('Duality time histogram')\n",
    "plt.grid(True)\n",
    "plt.show()"
   ]
  },
  {
   "cell_type": "code",
   "execution_count": 70,
   "id": "7200c23e",
   "metadata": {},
   "outputs": [
    {
     "data": {
      "text/plain": [
       "0.5133247538399317"
      ]
     },
     "execution_count": 70,
     "metadata": {},
     "output_type": "execute_result"
    }
   ],
   "source": [
    "skew(dual['time_seconds'])"
   ]
  },
  {
   "cell_type": "code",
   "execution_count": 65,
   "id": "3a6d3960",
   "metadata": {},
   "outputs": [],
   "source": [
    "shape, loc, scale = skewnorm.fit(nowy['time_seconds'])"
   ]
  },
  {
   "cell_type": "code",
   "execution_count": 67,
   "id": "99f3823a",
   "metadata": {},
   "outputs": [
    {
     "data": {
      "image/png": "[encoded data removed]",
      "text/plain": [
       "<Figure size 640x480 with 1 Axes>"
      ]
     },
     "metadata": {},
     "output_type": "display_data"
    }
   ],
   "source": [
    "plt.hist(nowy['time_seconds'], density = True)\n",
    "xs = np.linspace(min(nowy['time_seconds']), max(nowy['time_seconds']), 1000)\n",
    "fitted_pdf = skewnorm.pdf(xs, shape, loc, scale)\n",
    "plt.plot(xs, fitted_pdf)\n",
    "plt.title(\"Gotd hist vs skewed norm pdf\")\n",
    "plt.ylabel(\"density\")\n",
    "plt.xlabel(\"observations\")\n",
    "#plt.plot(xs,norm.pdf(xs, np.mean(nowy['time_seconds']), np.std(nowy['time_seconds'])))\n",
    "plt.grid(True)\n",
    "plt.show()"
   ]
  },
  {
   "cell_type": "code",
   "execution_count": 68,
   "id": "b70ac7c4",
   "metadata": {},
   "outputs": [
    {
     "data": {
      "text/plain": [
       "0.8616436721353921"
      ]
     },
     "execution_count": 68,
     "metadata": {},
     "output_type": "execute_result"
    }
   ],
   "source": [
    "skew(nowy['time_seconds'])"
   ]
  },
  {
   "cell_type": "code",
   "execution_count": 93,
   "id": "6a21e368",
   "metadata": {},
   "outputs": [
    {
     "data": {
      "text/plain": [
       "0       510\n",
       "1       510\n",
       "2       510\n",
       "3       556\n",
       "4       597\n",
       "       ... \n",
       "706    3780\n",
       "707    3900\n",
       "708    4200\n",
       "709    5220\n",
       "710    6240\n",
       "Name: time_seconds, Length: 711, dtype: int64"
      ]
     },
     "execution_count": 93,
     "metadata": {},
     "output_type": "execute_result"
    }
   ],
   "source": [
    "proph['time_seconds']"
   ]
  },
  {
   "cell_type": "code",
   "execution_count": 94,
   "id": "f1b4a600",
   "metadata": {},
   "outputs": [],
   "source": [
    "shape, loc, scale = skewnorm.fit(proph['time_seconds'].iloc[:705])"
   ]
  },
  {
   "cell_type": "code",
   "execution_count": 95,
   "id": "3a125527",
   "metadata": {},
   "outputs": [
    {
     "data": {
      "image/png": "[encoded data removed]",
      "text/plain": [
       "<Figure size 640x480 with 1 Axes>"
      ]
     },
     "metadata": {},
     "output_type": "display_data"
    }
   ],
   "source": [
    "plt.hist(proph['time_seconds'].iloc[:705], density = True)\n",
    "xs = np.linspace(min(proph['time_seconds']), max(proph['time_seconds'].iloc[:705]), 1000)\n",
    "fitted_pdf = skewnorm.pdf(xs, shape, loc, scale)\n",
    "plt.plot(xs, fitted_pdf)\n",
    "#plt.plot(xs,norm.pdf(xs, np.mean(proph['time_seconds']), np.std(proph['time_seconds'])))\n",
    "plt.title('Prophecy time histogram')\n",
    "plt.grid(True)\n",
    "plt.show()"
   ]
  },
  {
   "cell_type": "code",
   "execution_count": 102,
   "id": "c4a66711",
   "metadata": {},
   "outputs": [
    {
     "data": {
      "text/plain": [
       "0.3629744189946808"
      ]
     },
     "execution_count": 102,
     "metadata": {},
     "output_type": "execute_result"
    }
   ],
   "source": [
    "skew(proph['time_seconds'].iloc[:700])"
   ]
  },
  {
   "cell_type": "code",
   "execution_count": 116,
   "id": "3360e61d",
   "metadata": {},
   "outputs": [],
   "source": [
    "shape, loc, scale = skewnorm.fit(picior['time_seconds'])"
   ]
  },
  {
   "cell_type": "code",
   "execution_count": 120,
   "id": "2d0c53d5",
   "metadata": {},
   "outputs": [
    {
     "data": {
      "text/html": [
       "<div>\n",
       "<style scoped>\n",
       "    .dataframe tbody tr th:only-of-type {\n",
       "        vertical-align: middle;\n",
       "    }\n",
       "\n",
       "    .dataframe tbody tr th {\n",
       "        vertical-align: top;\n",
       "    }\n",
       "\n",
       "    .dataframe thead th {\n",
       "        text-align: right;\n",
       "    }\n",
       "</style>\n",
       "<table border=\"1\" class=\"dataframe\">\n",
       "  <thead>\n",
       "    <tr style=\"text-align: right;\">\n",
       "      <th></th>\n",
       "      <th>Name</th>\n",
       "      <th>pit_completions</th>\n",
       "      <th>pit_time</th>\n",
       "      <th>time_seconds</th>\n",
       "    </tr>\n",
       "  </thead>\n",
       "  <tbody>\n",
       "    <tr>\n",
       "      <th>0</th>\n",
       "      <td>Skid#4782</td>\n",
       "      <td>114</td>\n",
       "      <td>7m 59s</td>\n",
       "      <td>479</td>\n",
       "    </tr>\n",
       "    <tr>\n",
       "      <th>1</th>\n",
       "      <td>Nocker29#8803</td>\n",
       "      <td>206</td>\n",
       "      <td>7m 59s</td>\n",
       "      <td>479</td>\n",
       "    </tr>\n",
       "    <tr>\n",
       "      <th>2</th>\n",
       "      <td>bmw0108#6400</td>\n",
       "      <td>191</td>\n",
       "      <td>7m 59s</td>\n",
       "      <td>479</td>\n",
       "    </tr>\n",
       "    <tr>\n",
       "      <th>3</th>\n",
       "      <td>Harryy#3348</td>\n",
       "      <td>153</td>\n",
       "      <td>10m 03s</td>\n",
       "      <td>603</td>\n",
       "    </tr>\n",
       "    <tr>\n",
       "      <th>4</th>\n",
       "      <td>REDDO#2280</td>\n",
       "      <td>170</td>\n",
       "      <td>10m 07s</td>\n",
       "      <td>607</td>\n",
       "    </tr>\n",
       "    <tr>\n",
       "      <th>...</th>\n",
       "      <td>...</td>\n",
       "      <td>...</td>\n",
       "      <td>...</td>\n",
       "      <td>...</td>\n",
       "    </tr>\n",
       "    <tr>\n",
       "      <th>669</th>\n",
       "      <td>domino#3464</td>\n",
       "      <td>35</td>\n",
       "      <td>1h 02m</td>\n",
       "      <td>3720</td>\n",
       "    </tr>\n",
       "    <tr>\n",
       "      <th>670</th>\n",
       "      <td>skolimoszczak#0513</td>\n",
       "      <td>38</td>\n",
       "      <td>1h 02m</td>\n",
       "      <td>3720</td>\n",
       "    </tr>\n",
       "    <tr>\n",
       "      <th>671</th>\n",
       "      <td>MonteC#7432</td>\n",
       "      <td>31</td>\n",
       "      <td>2h 09m</td>\n",
       "      <td>7740</td>\n",
       "    </tr>\n",
       "    <tr>\n",
       "      <th>672</th>\n",
       "      <td>Adixor#3824</td>\n",
       "      <td>28</td>\n",
       "      <td>2h 09m</td>\n",
       "      <td>7740</td>\n",
       "    </tr>\n",
       "    <tr>\n",
       "      <th>673</th>\n",
       "      <td>♠♡MasujDzikaBejbe♡♠#1734</td>\n",
       "      <td>93</td>\n",
       "      <td>2h 41m</td>\n",
       "      <td>9660</td>\n",
       "    </tr>\n",
       "  </tbody>\n",
       "</table>\n",
       "<p>674 rows × 4 columns</p>\n",
       "</div>"
      ],
      "text/plain": [
       "                          Name  pit_completions pit_time  time_seconds\n",
       "0                    Skid#4782              114   7m 59s           479\n",
       "1                Nocker29#8803              206   7m 59s           479\n",
       "2                 bmw0108#6400              191   7m 59s           479\n",
       "3                  Harryy#3348              153  10m 03s           603\n",
       "4                   REDDO#2280              170  10m 07s           607\n",
       "..                         ...              ...      ...           ...\n",
       "669                domino#3464               35   1h 02m          3720\n",
       "670         skolimoszczak#0513               38   1h 02m          3720\n",
       "671                MonteC#7432               31   2h 09m          7740\n",
       "672                Adixor#3824               28   2h 09m          7740\n",
       "673   ♠♡MasujDzikaBejbe♡♠#1734               93   2h 41m          9660\n",
       "\n",
       "[674 rows x 4 columns]"
      ]
     },
     "execution_count": 120,
     "metadata": {},
     "output_type": "execute_result"
    }
   ],
   "source": []
  },
  {
   "cell_type": "code",
   "execution_count": 126,
   "id": "e25d8742",
   "metadata": {},
   "outputs": [
    {
     "data": {
      "image/png": "[encoded data removed]",
      "text/plain": [
       "<Figure size 640x480 with 1 Axes>"
      ]
     },
     "metadata": {},
     "output_type": "display_data"
    }
   ],
   "source": [
    "plt.hist(picior['time_seconds'].iloc[:670], density = True)\n",
    "xs = np.linspace(min(picior['time_seconds'].iloc[:670]), max(picior['time_seconds'].iloc[:670]), 1000)\n",
    "fitted_pdf = skewnorm.pdf(xs, shape, loc, scale)\n",
    "plt.plot(xs, fitted_pdf)\n",
    "#plt.plot(xs,norm.pdf(xs, np.mean(proph['time_seconds']), np.std(proph['time_seconds'])))\n",
    "plt.title('Pit time histogram')\n",
    "plt.grid(True)\n",
    "plt.show()"
   ]
  },
  {
   "cell_type": "code",
   "execution_count": 125,
   "id": "9b9bcc51",
   "metadata": {},
   "outputs": [
    {
     "data": {
      "text/plain": [
       "2.085058399074771"
      ]
     },
     "execution_count": 125,
     "metadata": {},
     "output_type": "execute_result"
    }
   ],
   "source": [
    "skew(picior['time_seconds'].iloc[:670])"
   ]
  },
  {
   "cell_type": "code",
   "execution_count": 129,
   "id": "7bf40c3b",
   "metadata": {},
   "outputs": [
    {
     "data": {
      "text/plain": [
       "'00:21:46'"
      ]
     },
     "execution_count": 129,
     "metadata": {},
     "output_type": "execute_result"
    }
   ],
   "source": [
    "sss = np.mean(picior['time_seconds'])\n",
    "time_pit = time.strftime(\"%H:%M:%S\", time.gmtime(sss))\n",
    "time_pit"
   ]
  },
  {
   "cell_type": "code",
   "execution_count": null,
   "id": "5608b4d0",
   "metadata": {},
   "outputs": [],
   "source": []
  }
 ],
 "metadata": {
  "kernelspec": {
   "display_name": "Python 3 (ipykernel)",
   "language": "python",
   "name": "python3"
  },
  "language_info": {
   "codemirror_mode": {
    "name": "ipython",
    "version": 3
   },
   "file_extension": ".py",
   "mimetype": "text/x-python",
   "name": "python",
   "nbconvert_exporter": "python",
   "pygments_lexer": "ipython3",
   "version": "3.7.9"
  }
 },
 "nbformat": 4,
 "nbformat_minor": 5
}
